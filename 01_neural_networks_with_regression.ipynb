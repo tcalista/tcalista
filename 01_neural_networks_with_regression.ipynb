{
  "nbformat": 4,
  "nbformat_minor": 0,
  "metadata": {
    "colab": {
      "provenance": [],
      "authorship_tag": "ABX9TyMe0Atple+xse08kiT1Tbe+",
      "include_colab_link": true
    },
    "kernelspec": {
      "name": "python3",
      "display_name": "Python 3"
    },
    "language_info": {
      "name": "python"
    }
  },
  "cells": [
    {
      "cell_type": "markdown",
      "metadata": {
        "id": "view-in-github",
        "colab_type": "text"
      },
      "source": [
        "<a href=\"https://colab.research.google.com/github/tcalista/tcalista/blob/main/01_neural_networks_with_regression.ipynb\" target=\"_parent\"><img src=\"https://colab.research.google.com/assets/colab-badge.svg\" alt=\"Open In Colab\"/></a>"
      ]
    },
    {
      "cell_type": "markdown",
      "source": [
        "# introduction to regression with neural networks in TensorFlow \n",
        "\n",
        "there are many definitions for a regression problem. predicting a numerical variable based on some other combination of variables, even shorter... predicting a number!\n"
      ],
      "metadata": {
        "id": "HQNVagCUrKRI"
      }
    },
    {
      "cell_type": "code",
      "source": [
        "# import tf\n",
        "import tensorflow as tf\n",
        "print(tf.__version__)"
      ],
      "metadata": {
        "colab": {
          "base_uri": "https://localhost:8080/"
        },
        "id": "WM2ECrqZ7u5A",
        "outputId": "b1d48369-5dc3-483f-bec6-6acd58aa2613"
      },
      "execution_count": null,
      "outputs": [
        {
          "output_type": "stream",
          "name": "stdout",
          "text": [
            "2.9.2\n"
          ]
        }
      ]
    },
    {
      "cell_type": "code",
      "source": [
        "# creating data to view and fit \n",
        "import numpy as np\n",
        "import matplotlib.pyplot as plt\n",
        "\n",
        "# create features (dependent variables)\n",
        "X = np.array([-7.0, -4.0, -1.0, 2.0, 5.0, 8.0, 11.0, 14.0])\n",
        "\n",
        "# create label (independent variables)\n",
        "y = np.array([3.0, 6.0, 9.0, 12.0, 15.0, 18.0, 21.0, 24.0])\n",
        "\n",
        "# visualize it \n",
        "plt.scatter(X, y)"
      ],
      "metadata": {
        "colab": {
          "base_uri": "https://localhost:8080/",
          "height": 287
        },
        "id": "PQQv9XJl8QtJ",
        "outputId": "afd2d823-ea9a-446a-8c5c-da8206f53643"
      },
      "execution_count": null,
      "outputs": [
        {
          "output_type": "execute_result",
          "data": {
            "text/plain": [
              "<matplotlib.collections.PathCollection at 0x7f64c36f84f0>"
            ]
          },
          "metadata": {},
          "execution_count": 4
        },
        {
          "output_type": "display_data",
          "data": {
            "text/plain": [
              "<Figure size 432x288 with 1 Axes>"
            ],
            "image/png": "[encoded data removed]"
          },
          "metadata": {
            "needs_background": "light"
          }
        }
      ]
    },
    {
      "cell_type": "markdown",
      "source": [
        "input and ouput shapes"
      ],
      "metadata": {
        "id": "wYTfV0_N-X0Z"
      }
    },
    {
      "cell_type": "code",
      "source": [
        "# create a demo tensor for our housing price prediction problem \n",
        "house_info = tf.constant([\"bedroom\", \"bathroom\", \"garage\"])\n",
        "house_price = tf.constant([939700])\n",
        "house_info, house_price"
      ],
      "metadata": {
        "colab": {
          "base_uri": "https://localhost:8080/"
        },
        "id": "V_eJTtPe8Qvo",
        "outputId": "30b2aa8b-3425-472f-fb72-8403f70ecc9e"
      },
      "execution_count": null,
      "outputs": [
        {
          "output_type": "execute_result",
          "data": {
            "text/plain": [
              "(<tf.Tensor: shape=(3,), dtype=string, numpy=array([b'bedroom', b'bathroom', b'garage'], dtype=object)>,\n",
              " <tf.Tensor: shape=(1,), dtype=int32, numpy=array([939700], dtype=int32)>)"
            ]
          },
          "metadata": {},
          "execution_count": 5
        }
      ]
    },
    {
      "cell_type": "code",
      "source": [
        "X[0], y[0]"
      ],
      "metadata": {
        "colab": {
          "base_uri": "https://localhost:8080/"
        },
        "id": "MiN9to2dAgWO",
        "outputId": "d07746ae-c1be-48d3-e845-9705f74a61dc"
      },
      "execution_count": null,
      "outputs": [
        {
          "output_type": "execute_result",
          "data": {
            "text/plain": [
              "(-7.0, 3.0)"
            ]
          },
          "metadata": {},
          "execution_count": 6
        }
      ]
    },
    {
      "cell_type": "code",
      "source": [
        "X[1], y[1]"
      ],
      "metadata": {
        "colab": {
          "base_uri": "https://localhost:8080/"
        },
        "id": "5HSub-rLAio2",
        "outputId": "e41a7bcb-53b8-4649-e5fe-b520df43dd52"
      },
      "execution_count": null,
      "outputs": [
        {
          "output_type": "execute_result",
          "data": {
            "text/plain": [
              "(-4.0, 6.0)"
            ]
          },
          "metadata": {},
          "execution_count": 7
        }
      ]
    },
    {
      "cell_type": "code",
      "source": [
        "input_shape = X.shape\n",
        "output_shape = y.shape\n",
        "input_shape, output_shape"
      ],
      "metadata": {
        "colab": {
          "base_uri": "https://localhost:8080/"
        },
        "id": "1ekmOfHk8QyC",
        "outputId": "95189fb0-efe5-4051-a489-0807ffc962bc"
      },
      "execution_count": null,
      "outputs": [
        {
          "output_type": "execute_result",
          "data": {
            "text/plain": [
              "((8,), (8,))"
            ]
          },
          "metadata": {},
          "execution_count": 8
        }
      ]
    },
    {
      "cell_type": "code",
      "source": [
        "X[0].ndim　#scalar is a rank zero tensor "
      ],
      "metadata": {
        "colab": {
          "base_uri": "https://localhost:8080/",
          "height": 133
        },
        "id": "HtW_Bavj8Q0O",
        "outputId": "3ca80312-f555-4e66-b091-09e59021e310"
      },
      "execution_count": null,
      "outputs": [
        {
          "output_type": "error",
          "ename": "SyntaxError",
          "evalue": "ignored",
          "traceback": [
            "\u001b[0;36m  File \u001b[0;32m\"<ipython-input-9-fc467ea46e3d>\"\u001b[0;36m, line \u001b[0;32m1\u001b[0m\n\u001b[0;31m    X[0].ndim　#scalar is a rank zero tensor\u001b[0m\n\u001b[0m             ^\u001b[0m\n\u001b[0;31mSyntaxError\u001b[0m\u001b[0;31m:\u001b[0m invalid character in identifier\n"
          ]
        }
      ]
    },
    {
      "cell_type": "code",
      "source": [
        "X[0], y[0] # one x value to predict one y value"
      ],
      "metadata": {
        "colab": {
          "base_uri": "https://localhost:8080/"
        },
        "id": "lwzldRNy8Q2p",
        "outputId": "92e7e89b-54a3-43e8-9c32-8cfddbfa4071"
      },
      "execution_count": null,
      "outputs": [
        {
          "output_type": "execute_result",
          "data": {
            "text/plain": [
              "(-7.0, 3.0)"
            ]
          },
          "metadata": {},
          "execution_count": 10
        }
      ]
    },
    {
      "cell_type": "code",
      "source": [
        "# turn our numpy arrays into tensors\n",
        "X = tf.constant(X)\n",
        "y = tf.constant(y)\n",
        "X, plt.yticks"
      ],
      "metadata": {
        "id": "5XefaxWu8Q4w",
        "colab": {
          "base_uri": "https://localhost:8080/"
        },
        "outputId": "e9d09dfa-0578-445a-d419-d2cbb6c772fb"
      },
      "execution_count": null,
      "outputs": [
        {
          "output_type": "execute_result",
          "data": {
            "text/plain": [
              "(<tf.Tensor: shape=(8,), dtype=float64, numpy=array([-7., -4., -1.,  2.,  5.,  8., 11., 14.])>,\n",
              " <function matplotlib.pyplot.yticks(ticks=None, labels=None, **kwargs)>)"
            ]
          },
          "metadata": {},
          "execution_count": 11
        }
      ]
    },
    {
      "cell_type": "code",
      "source": [
        "input_shape = X[0].shape\n",
        "output_shape= y[0].shape\n",
        "input_shape, output_shape"
      ],
      "metadata": {
        "id": "J2bGMJlp8Q7f",
        "colab": {
          "base_uri": "https://localhost:8080/"
        },
        "outputId": "45b4a0f5-b7d2-4d54-8879-339f54a1936e"
      },
      "execution_count": null,
      "outputs": [
        {
          "output_type": "execute_result",
          "data": {
            "text/plain": [
              "(TensorShape([]), TensorShape([]))"
            ]
          },
          "metadata": {},
          "execution_count": 12
        }
      ]
    },
    {
      "cell_type": "code",
      "source": [
        "plt.scatter(X, y)"
      ],
      "metadata": {
        "id": "68RQNqSu8Q-L",
        "colab": {
          "base_uri": "https://localhost:8080/",
          "height": 287
        },
        "outputId": "0fd832f4-d815-40fd-c91d-daae07fe24fa"
      },
      "execution_count": null,
      "outputs": [
        {
          "output_type": "execute_result",
          "data": {
            "text/plain": [
              "<matplotlib.collections.PathCollection at 0x7f64c0161ac0>"
            ]
          },
          "metadata": {},
          "execution_count": 13
        },
        {
          "output_type": "display_data",
          "data": {
            "text/plain": [
              "<Figure size 432x288 with 1 Axes>"
            ],
            "image/png": "[encoded data removed]"
          },
          "metadata": {
            "needs_background": "light"
          }
        }
      ]
    },
    {
      "cell_type": "markdown",
      "source": [
        "## steps in modelling with TensorFlow\n",
        "1. **creating a model** - define input and output layers, as well as the hidden layers of a deep learning model\n",
        "2. **compile a model**- define the loss function (the function which tells our model how wrong the model is) and the optimizer (tells our model how to improve the pattern its learning) and evaluation metrics (what we can use to interpret the performance of our model.)\n",
        "3. **fitting a model** - letting the model to try to find patterns between X and y (features and labels)"
      ],
      "metadata": {
        "id": "CjiyrowcwH2L"
      }
    },
    {
      "cell_type": "code",
      "source": [
        "# set random seed\n",
        "tf.random.set_seed(42)\n",
        "\n",
        "# 1. create a model using the Sequential API\n",
        "model = tf.keras.Sequential([\n",
        "    tf.keras.layers.Dense(1)\n",
        "])\n",
        "# 2. compile the model\n",
        "model.compile(loss= tf.keras.losses.mae,\n",
        "              optimizer= tf.keras.optimizers.SGD(),\n",
        "              metrics=[\"mae\"]) #mae = mean absolute error # SGD = \n",
        "                                                    #stochastic gradient descent\n",
        "# 3. fit the model\n",
        "#model.fit(X, y, epochs=5), we need to expand the dimension of input data \n",
        "model.fit(tf.expand_dims(X, axis=-1), y, epochs=5)"
      ],
      "metadata": {
        "colab": {
          "base_uri": "https://localhost:8080/"
        },
        "id": "DnF2OZFnwCRa",
        "outputId": "e1195e9c-bcec-45af-c1f0-7236e370c343"
      },
      "execution_count": null,
      "outputs": [
        {
          "output_type": "stream",
          "name": "stdout",
          "text": [
            "Epoch 1/5\n",
            "1/1 [==============================] - 1s 565ms/step - loss: 11.5048 - mae: 11.5048\n",
            "Epoch 2/5\n",
            "1/1 [==============================] - 0s 207ms/step - loss: 11.3723 - mae: 11.3723\n",
            "Epoch 3/5\n",
            "1/1 [==============================] - 0s 11ms/step - loss: 11.2398 - mae: 11.2398\n",
            "Epoch 4/5\n",
            "1/1 [==============================] - 0s 10ms/step - loss: 11.1073 - mae: 11.1073\n",
            "Epoch 5/5\n",
            "1/1 [==============================] - 0s 7ms/step - loss: 10.9748 - mae: 10.9748\n"
          ]
        },
        {
          "output_type": "execute_result",
          "data": {
            "text/plain": [
              "<keras.callbacks.History at 0x7f64baff0730>"
            ]
          },
          "metadata": {},
          "execution_count": 14
        }
      ]
    },
    {
      "cell_type": "code",
      "source": [
        "# same way using add method\n",
        "model = tf.keras.Sequential()\n",
        "model.add(tf.keras.layers.Dense(1))"
      ],
      "metadata": {
        "id": "JYQ8gn5XwCUa"
      },
      "execution_count": null,
      "outputs": []
    },
    {
      "cell_type": "code",
      "source": [
        "# check out X and y \n",
        "X, y"
      ],
      "metadata": {
        "colab": {
          "base_uri": "https://localhost:8080/"
        },
        "id": "HSuReMxCwCYq",
        "outputId": "26436bc1-2e5b-43e2-b747-982be61be2ab"
      },
      "execution_count": null,
      "outputs": [
        {
          "output_type": "execute_result",
          "data": {
            "text/plain": [
              "(<tf.Tensor: shape=(8,), dtype=float64, numpy=array([-7., -4., -1.,  2.,  5.,  8., 11., 14.])>,\n",
              " <tf.Tensor: shape=(8,), dtype=float64, numpy=array([ 3.,  6.,  9., 12., 15., 18., 21., 24.])>)"
            ]
          },
          "metadata": {},
          "execution_count": 16
        }
      ]
    },
    {
      "cell_type": "code",
      "source": [
        "# try and make a prediction using our model\n",
        "y_pred = model.predict([17.0])"
      ],
      "metadata": {
        "colab": {
          "base_uri": "https://localhost:8080/",
          "height": 781
        },
        "id": "dzejT9eiwCaf",
        "outputId": "a91b0f23-345f-41a8-b85d-988bfb77d26d"
      },
      "execution_count": null,
      "outputs": [
        {
          "output_type": "error",
          "ename": "ValueError",
          "evalue": "ignored",
          "traceback": [
            "\u001b[0;31m---------------------------------------------------------------------------\u001b[0m",
            "\u001b[0;31mValueError\u001b[0m                                Traceback (most recent call last)",
            "\u001b[0;32m<ipython-input-17-98724f210d59>\u001b[0m in \u001b[0;36m<module>\u001b[0;34m\u001b[0m\n\u001b[1;32m      1\u001b[0m \u001b[0;31m# try and make a prediction using our model\u001b[0m\u001b[0;34m\u001b[0m\u001b[0;34m\u001b[0m\u001b[0;34m\u001b[0m\u001b[0m\n\u001b[0;32m----> 2\u001b[0;31m \u001b[0my_pred\u001b[0m \u001b[0;34m=\u001b[0m \u001b[0mmodel\u001b[0m\u001b[0;34m.\u001b[0m\u001b[0mpredict\u001b[0m\u001b[0;34m(\u001b[0m\u001b[0;34m[\u001b[0m\u001b[0;36m17.0\u001b[0m\u001b[0;34m]\u001b[0m\u001b[0;34m)\u001b[0m\u001b[0;34m\u001b[0m\u001b[0;34m\u001b[0m\u001b[0m\n\u001b[0m",
            "\u001b[0;32m/usr/local/lib/python3.8/dist-packages/keras/utils/traceback_utils.py\u001b[0m in \u001b[0;36merror_handler\u001b[0;34m(*args, **kwargs)\u001b[0m\n\u001b[1;32m     65\u001b[0m     \u001b[0;32mexcept\u001b[0m \u001b[0mException\u001b[0m \u001b[0;32mas\u001b[0m \u001b[0me\u001b[0m\u001b[0;34m:\u001b[0m  \u001b[0;31m# pylint: disable=broad-except\u001b[0m\u001b[0;34m\u001b[0m\u001b[0;34m\u001b[0m\u001b[0m\n\u001b[1;32m     66\u001b[0m       \u001b[0mfiltered_tb\u001b[0m \u001b[0;34m=\u001b[0m \u001b[0m_process_traceback_frames\u001b[0m\u001b[0;34m(\u001b[0m\u001b[0me\u001b[0m\u001b[0;34m.\u001b[0m\u001b[0m__traceback__\u001b[0m\u001b[0;34m)\u001b[0m\u001b[0;34m\u001b[0m\u001b[0;34m\u001b[0m\u001b[0m\n\u001b[0;32m---> 67\u001b[0;31m       \u001b[0;32mraise\u001b[0m \u001b[0me\u001b[0m\u001b[0;34m.\u001b[0m\u001b[0mwith_traceback\u001b[0m\u001b[0;34m(\u001b[0m\u001b[0mfiltered_tb\u001b[0m\u001b[0;34m)\u001b[0m \u001b[0;32mfrom\u001b[0m \u001b[0;32mNone\u001b[0m\u001b[0;34m\u001b[0m\u001b[0;34m\u001b[0m\u001b[0m\n\u001b[0m\u001b[1;32m     68\u001b[0m     \u001b[0;32mfinally\u001b[0m\u001b[0;34m:\u001b[0m\u001b[0;34m\u001b[0m\u001b[0;34m\u001b[0m\u001b[0m\n\u001b[1;32m     69\u001b[0m       \u001b[0;32mdel\u001b[0m \u001b[0mfiltered_tb\u001b[0m\u001b[0;34m\u001b[0m\u001b[0;34m\u001b[0m\u001b[0m\n",
            "\u001b[0;32m/usr/local/lib/python3.8/dist-packages/keras/engine/training.py\u001b[0m in \u001b[0;36mtf__predict_function\u001b[0;34m(iterator)\u001b[0m\n\u001b[1;32m     13\u001b[0m                 \u001b[0;32mtry\u001b[0m\u001b[0;34m:\u001b[0m\u001b[0;34m\u001b[0m\u001b[0;34m\u001b[0m\u001b[0m\n\u001b[1;32m     14\u001b[0m                     \u001b[0mdo_return\u001b[0m \u001b[0;34m=\u001b[0m \u001b[0;32mTrue\u001b[0m\u001b[0;34m\u001b[0m\u001b[0;34m\u001b[0m\u001b[0m\n\u001b[0;32m---> 15\u001b[0;31m                     \u001b[0mretval_\u001b[0m \u001b[0;34m=\u001b[0m \u001b[0mag__\u001b[0m\u001b[0;34m.\u001b[0m\u001b[0mconverted_call\u001b[0m\u001b[0;34m(\u001b[0m\u001b[0mag__\u001b[0m\u001b[0;34m.\u001b[0m\u001b[0mld\u001b[0m\u001b[0;34m(\u001b[0m\u001b[0mstep_function\u001b[0m\u001b[0;34m)\u001b[0m\u001b[0;34m,\u001b[0m \u001b[0;34m(\u001b[0m\u001b[0mag__\u001b[0m\u001b[0;34m.\u001b[0m\u001b[0mld\u001b[0m\u001b[0;34m(\u001b[0m\u001b[0mself\u001b[0m\u001b[0;34m)\u001b[0m\u001b[0;34m,\u001b[0m \u001b[0mag__\u001b[0m\u001b[0;34m.\u001b[0m\u001b[0mld\u001b[0m\u001b[0;34m(\u001b[0m\u001b[0miterator\u001b[0m\u001b[0;34m)\u001b[0m\u001b[0;34m)\u001b[0m\u001b[0;34m,\u001b[0m \u001b[0;32mNone\u001b[0m\u001b[0;34m,\u001b[0m \u001b[0mfscope\u001b[0m\u001b[0;34m)\u001b[0m\u001b[0;34m\u001b[0m\u001b[0;34m\u001b[0m\u001b[0m\n\u001b[0m\u001b[1;32m     16\u001b[0m                 \u001b[0;32mexcept\u001b[0m\u001b[0;34m:\u001b[0m\u001b[0;34m\u001b[0m\u001b[0;34m\u001b[0m\u001b[0m\n\u001b[1;32m     17\u001b[0m                     \u001b[0mdo_return\u001b[0m \u001b[0;34m=\u001b[0m \u001b[0;32mFalse\u001b[0m\u001b[0;34m\u001b[0m\u001b[0;34m\u001b[0m\u001b[0m\n",
            "\u001b[0;31mValueError\u001b[0m: in user code:\n\n    File \"/usr/local/lib/python3.8/dist-packages/keras/engine/training.py\", line 1845, in predict_function  *\n        return step_function(self, iterator)\n    File \"/usr/local/lib/python3.8/dist-packages/keras/engine/training.py\", line 1834, in step_function  **\n        outputs = model.distribute_strategy.run(run_step, args=(data,))\n    File \"/usr/local/lib/python3.8/dist-packages/keras/engine/training.py\", line 1823, in run_step  **\n        outputs = model.predict_step(data)\n    File \"/usr/local/lib/python3.8/dist-packages/keras/engine/training.py\", line 1791, in predict_step\n        return self(x, training=False)\n    File \"/usr/local/lib/python3.8/dist-packages/keras/utils/traceback_utils.py\", line 67, in error_handler\n        raise e.with_traceback(filtered_tb) from None\n    File \"/usr/local/lib/python3.8/dist-packages/keras/engine/input_spec.py\", line 228, in assert_input_compatibility\n        raise ValueError(f'Input {input_index} of layer \"{layer_name}\" '\n\n    ValueError: Exception encountered when calling layer \"sequential_1\" (type Sequential).\n    \n    Input 0 of layer \"dense_1\" is incompatible with the layer: expected min_ndim=2, found ndim=1. Full shape received: (None,)\n    \n    Call arguments received by layer \"sequential_1\" (type Sequential):\n      • inputs=tf.Tensor(shape=(None,), dtype=float32)\n      • training=False\n      • mask=None\n"
          ]
        }
      ]
    },
    {
      "cell_type": "code",
      "source": [
        "y_pred + 11 # still off!"
      ],
      "metadata": {
        "id": "JriqmwYI_lnD"
      },
      "execution_count": null,
      "outputs": []
    },
    {
      "cell_type": "markdown",
      "source": [
        "## imporove our model\n",
        "## improving our model\n",
        "we can improve our model by altering the steps we took to create a model.\n",
        "\n",
        "1. creating a model - here we might add more layers, increase the number of hidden u \n",
        "units (also called neurons within each of the hidden layers, or change the activation function of each\n",
        "       layer)\n",
        "2. compiling a model - here we might change the optimization function or perharps the learning rate of the optimization function.\n",
        "3. fitting a model - here we might fit a model for more epochs or on more data ( give the model more examples )\n"
      ],
      "metadata": {
        "id": "kbgGe_JoCbu3"
      }
    },
    {
      "cell_type": "code",
      "source": [
        "# set random seed\n",
        "tf.random.set_seed(42)\n",
        "\n",
        "# 1. create a model using the Sequential API\n",
        "model = tf.keras.Sequential([\n",
        "    tf.keras.layers.Dense(1)\n",
        "])\n",
        "# 2. compile the model\n",
        "model.compile(loss= tf.keras.losses.mae,\n",
        "              optimizer= tf.keras.optimizers.SGD(),\n",
        "              metrics=[\"mae\"]) #mae = mean absolute error # SGD = \n",
        "                                                    #stochastic gradient descent\n",
        "# 3. fit the model\n",
        "#model.fit(X, y, epochs=5), we need to expand the dimension of input data \n",
        "model.fit(tf.expand_dims(X, axis=-1), y, epochs=5)"
      ],
      "metadata": {
        "id": "Wrk01B-3_lqb",
        "colab": {
          "base_uri": "https://localhost:8080/"
        },
        "outputId": "6333a0f4-fdd8-4c4f-c2c8-578f322573d5"
      },
      "execution_count": null,
      "outputs": [
        {
          "output_type": "stream",
          "name": "stdout",
          "text": [
            "Epoch 1/5\n",
            "1/1 [==============================] - 0s 290ms/step - loss: 11.5048 - mae: 11.5048\n",
            "Epoch 2/5\n",
            "1/1 [==============================] - 0s 9ms/step - loss: 11.3723 - mae: 11.3723\n",
            "Epoch 3/5\n",
            "1/1 [==============================] - 0s 7ms/step - loss: 11.2398 - mae: 11.2398\n",
            "Epoch 4/5\n",
            "1/1 [==============================] - 0s 6ms/step - loss: 11.1073 - mae: 11.1073\n",
            "Epoch 5/5\n",
            "1/1 [==============================] - 0s 6ms/step - loss: 10.9748 - mae: 10.9748\n"
          ]
        },
        {
          "output_type": "execute_result",
          "data": {
            "text/plain": [
              "<keras.callbacks.History at 0x7f64b9777a60>"
            ]
          },
          "metadata": {},
          "execution_count": 18
        }
      ]
    },
    {
      "cell_type": "code",
      "source": [
        "tf.random.set_seed(42)\n",
        "# create model\n",
        "model = tf.keras.Sequential([\n",
        "    tf.keras.layers.Dense(1)\n",
        "])\n",
        "# compile\n",
        "model.compile(loss=tf.keras.losses.mae,\n",
        "              optimizer=tf.keras.optimizers.SGD(),\n",
        "              metrics=[\"mae\"])\n",
        "# fit the model ( this time we'll train for longer)\n",
        "model.fit(tf.expand_dims(X, axis=-1), y, epochs=100) # increasing epochs lower mae"
      ],
      "metadata": {
        "id": "I54Tib6Z_lt3",
        "colab": {
          "base_uri": "https://localhost:8080/"
        },
        "outputId": "776082d8-1397-4829-a5a4-97f69acc0939"
      },
      "execution_count": null,
      "outputs": [
        {
          "output_type": "stream",
          "name": "stdout",
          "text": [
            "Epoch 1/100\n",
            "1/1 [==============================] - 0s 283ms/step - loss: 11.5048 - mae: 11.5048\n",
            "Epoch 2/100\n",
            "1/1 [==============================] - 0s 8ms/step - loss: 11.3723 - mae: 11.3723\n",
            "Epoch 3/100\n",
            "1/1 [==============================] - 0s 7ms/step - loss: 11.2398 - mae: 11.2398\n",
            "Epoch 4/100\n",
            "1/1 [==============================] - 0s 8ms/step - loss: 11.1073 - mae: 11.1073\n",
            "Epoch 5/100\n",
            "1/1 [==============================] - 0s 6ms/step - loss: 10.9748 - mae: 10.9748\n",
            "Epoch 6/100\n",
            "1/1 [==============================] - 0s 6ms/step - loss: 10.8423 - mae: 10.8423\n",
            "Epoch 7/100\n",
            "1/1 [==============================] - 0s 5ms/step - loss: 10.7098 - mae: 10.7098\n",
            "Epoch 8/100\n",
            "1/1 [==============================] - 0s 5ms/step - loss: 10.5773 - mae: 10.5773\n",
            "Epoch 9/100\n",
            "1/1 [==============================] - 0s 6ms/step - loss: 10.4448 - mae: 10.4448\n",
            "Epoch 10/100\n",
            "1/1 [==============================] - 0s 6ms/step - loss: 10.3123 - mae: 10.3123\n",
            "Epoch 11/100\n",
            "1/1 [==============================] - 0s 6ms/step - loss: 10.1798 - mae: 10.1798\n",
            "Epoch 12/100\n",
            "1/1 [==============================] - 0s 6ms/step - loss: 10.0473 - mae: 10.0473\n",
            "Epoch 13/100\n",
            "1/1 [==============================] - 0s 8ms/step - loss: 9.9148 - mae: 9.9148\n",
            "Epoch 14/100\n",
            "1/1 [==============================] - 0s 5ms/step - loss: 9.7823 - mae: 9.7823\n",
            "Epoch 15/100\n",
            "1/1 [==============================] - 0s 6ms/step - loss: 9.6498 - mae: 9.6498\n",
            "Epoch 16/100\n",
            "1/1 [==============================] - 0s 6ms/step - loss: 9.5173 - mae: 9.5173\n",
            "Epoch 17/100\n",
            "1/1 [==============================] - 0s 6ms/step - loss: 9.3848 - mae: 9.3848\n",
            "Epoch 18/100\n",
            "1/1 [==============================] - 0s 6ms/step - loss: 9.2523 - mae: 9.2523\n",
            "Epoch 19/100\n",
            "1/1 [==============================] - 0s 6ms/step - loss: 9.1198 - mae: 9.1198\n",
            "Epoch 20/100\n",
            "1/1 [==============================] - 0s 5ms/step - loss: 8.9873 - mae: 8.9873\n",
            "Epoch 21/100\n",
            "1/1 [==============================] - 0s 6ms/step - loss: 8.8548 - mae: 8.8548\n",
            "Epoch 22/100\n",
            "1/1 [==============================] - 0s 6ms/step - loss: 8.7223 - mae: 8.7223\n",
            "Epoch 23/100\n",
            "1/1 [==============================] - 0s 6ms/step - loss: 8.5898 - mae: 8.5898\n",
            "Epoch 24/100\n",
            "1/1 [==============================] - 0s 6ms/step - loss: 8.4573 - mae: 8.4573\n",
            "Epoch 25/100\n",
            "1/1 [==============================] - 0s 6ms/step - loss: 8.3248 - mae: 8.3248\n",
            "Epoch 26/100\n",
            "1/1 [==============================] - 0s 7ms/step - loss: 8.1923 - mae: 8.1923\n",
            "Epoch 27/100\n",
            "1/1 [==============================] - 0s 7ms/step - loss: 8.0598 - mae: 8.0598\n",
            "Epoch 28/100\n",
            "1/1 [==============================] - 0s 9ms/step - loss: 7.9273 - mae: 7.9273\n",
            "Epoch 29/100\n",
            "1/1 [==============================] - 0s 6ms/step - loss: 7.7948 - mae: 7.7948\n",
            "Epoch 30/100\n",
            "1/1 [==============================] - 0s 8ms/step - loss: 7.6623 - mae: 7.6623\n",
            "Epoch 31/100\n",
            "1/1 [==============================] - 0s 8ms/step - loss: 7.5298 - mae: 7.5298\n",
            "Epoch 32/100\n",
            "1/1 [==============================] - 0s 7ms/step - loss: 7.3973 - mae: 7.3973\n",
            "Epoch 33/100\n",
            "1/1 [==============================] - 0s 11ms/step - loss: 7.2648 - mae: 7.2648\n",
            "Epoch 34/100\n",
            "1/1 [==============================] - 0s 6ms/step - loss: 7.2525 - mae: 7.2525\n",
            "Epoch 35/100\n",
            "1/1 [==============================] - 0s 6ms/step - loss: 7.2469 - mae: 7.2469\n",
            "Epoch 36/100\n",
            "1/1 [==============================] - 0s 6ms/step - loss: 7.2413 - mae: 7.2413\n",
            "Epoch 37/100\n",
            "1/1 [==============================] - 0s 8ms/step - loss: 7.2356 - mae: 7.2356\n",
            "Epoch 38/100\n",
            "1/1 [==============================] - 0s 7ms/step - loss: 7.2300 - mae: 7.2300\n",
            "Epoch 39/100\n",
            "1/1 [==============================] - 0s 6ms/step - loss: 7.2244 - mae: 7.2244\n",
            "Epoch 40/100\n",
            "1/1 [==============================] - 0s 7ms/step - loss: 7.2188 - mae: 7.2188\n",
            "Epoch 41/100\n",
            "1/1 [==============================] - 0s 7ms/step - loss: 7.2131 - mae: 7.2131\n",
            "Epoch 42/100\n",
            "1/1 [==============================] - 0s 8ms/step - loss: 7.2075 - mae: 7.2075\n",
            "Epoch 43/100\n",
            "1/1 [==============================] - 0s 7ms/step - loss: 7.2019 - mae: 7.2019\n",
            "Epoch 44/100\n",
            "1/1 [==============================] - 0s 6ms/step - loss: 7.1963 - mae: 7.1963\n",
            "Epoch 45/100\n",
            "1/1 [==============================] - 0s 7ms/step - loss: 7.1906 - mae: 7.1906\n",
            "Epoch 46/100\n",
            "1/1 [==============================] - 0s 7ms/step - loss: 7.1850 - mae: 7.1850\n",
            "Epoch 47/100\n",
            "1/1 [==============================] - 0s 7ms/step - loss: 7.1794 - mae: 7.1794\n",
            "Epoch 48/100\n",
            "1/1 [==============================] - 0s 7ms/step - loss: 7.1738 - mae: 7.1738\n",
            "Epoch 49/100\n",
            "1/1 [==============================] - 0s 7ms/step - loss: 7.1681 - mae: 7.1681\n",
            "Epoch 50/100\n",
            "1/1 [==============================] - 0s 7ms/step - loss: 7.1625 - mae: 7.1625\n",
            "Epoch 51/100\n",
            "1/1 [==============================] - 0s 7ms/step - loss: 7.1569 - mae: 7.1569\n",
            "Epoch 52/100\n",
            "1/1 [==============================] - 0s 7ms/step - loss: 7.1512 - mae: 7.1512\n",
            "Epoch 53/100\n",
            "1/1 [==============================] - 0s 7ms/step - loss: 7.1456 - mae: 7.1456\n",
            "Epoch 54/100\n",
            "1/1 [==============================] - 0s 6ms/step - loss: 7.1400 - mae: 7.1400\n",
            "Epoch 55/100\n",
            "1/1 [==============================] - 0s 7ms/step - loss: 7.1344 - mae: 7.1344\n",
            "Epoch 56/100\n",
            "1/1 [==============================] - 0s 7ms/step - loss: 7.1287 - mae: 7.1287\n",
            "Epoch 57/100\n",
            "1/1 [==============================] - 0s 7ms/step - loss: 7.1231 - mae: 7.1231\n",
            "Epoch 58/100\n",
            "1/1 [==============================] - 0s 6ms/step - loss: 7.1175 - mae: 7.1175\n",
            "Epoch 59/100\n",
            "1/1 [==============================] - 0s 12ms/step - loss: 7.1119 - mae: 7.1119\n",
            "Epoch 60/100\n",
            "1/1 [==============================] - 0s 6ms/step - loss: 7.1063 - mae: 7.1063\n",
            "Epoch 61/100\n",
            "1/1 [==============================] - 0s 8ms/step - loss: 7.1006 - mae: 7.1006\n",
            "Epoch 62/100\n",
            "1/1 [==============================] - 0s 6ms/step - loss: 7.0950 - mae: 7.0950\n",
            "Epoch 63/100\n",
            "1/1 [==============================] - 0s 6ms/step - loss: 7.0894 - mae: 7.0894\n",
            "Epoch 64/100\n",
            "1/1 [==============================] - 0s 7ms/step - loss: 7.0838 - mae: 7.0838\n",
            "Epoch 65/100\n",
            "1/1 [==============================] - 0s 7ms/step - loss: 7.0781 - mae: 7.0781\n",
            "Epoch 66/100\n",
            "1/1 [==============================] - 0s 7ms/step - loss: 7.0725 - mae: 7.0725\n",
            "Epoch 67/100\n",
            "1/1 [==============================] - 0s 6ms/step - loss: 7.0669 - mae: 7.0669\n",
            "Epoch 68/100\n",
            "1/1 [==============================] - 0s 6ms/step - loss: 7.0613 - mae: 7.0613\n",
            "Epoch 69/100\n",
            "1/1 [==============================] - 0s 7ms/step - loss: 7.0556 - mae: 7.0556\n",
            "Epoch 70/100\n",
            "1/1 [==============================] - 0s 10ms/step - loss: 7.0500 - mae: 7.0500\n",
            "Epoch 71/100\n",
            "1/1 [==============================] - 0s 6ms/step - loss: 7.0444 - mae: 7.0444\n",
            "Epoch 72/100\n",
            "1/1 [==============================] - 0s 7ms/step - loss: 7.0388 - mae: 7.0388\n",
            "Epoch 73/100\n",
            "1/1 [==============================] - 0s 6ms/step - loss: 7.0331 - mae: 7.0331\n",
            "Epoch 74/100\n",
            "1/1 [==============================] - 0s 6ms/step - loss: 7.0275 - mae: 7.0275\n",
            "Epoch 75/100\n",
            "1/1 [==============================] - 0s 7ms/step - loss: 7.0219 - mae: 7.0219\n",
            "Epoch 76/100\n",
            "1/1 [==============================] - 0s 7ms/step - loss: 7.0163 - mae: 7.0163\n",
            "Epoch 77/100\n",
            "1/1 [==============================] - 0s 6ms/step - loss: 7.0106 - mae: 7.0106\n",
            "Epoch 78/100\n",
            "1/1 [==============================] - 0s 6ms/step - loss: 7.0050 - mae: 7.0050\n",
            "Epoch 79/100\n",
            "1/1 [==============================] - 0s 11ms/step - loss: 6.9994 - mae: 6.9994\n",
            "Epoch 80/100\n",
            "1/1 [==============================] - 0s 7ms/step - loss: 6.9938 - mae: 6.9938\n",
            "Epoch 81/100\n",
            "1/1 [==============================] - 0s 7ms/step - loss: 6.9881 - mae: 6.9881\n",
            "Epoch 82/100\n",
            "1/1 [==============================] - 0s 7ms/step - loss: 6.9825 - mae: 6.9825\n",
            "Epoch 83/100\n",
            "1/1 [==============================] - 0s 7ms/step - loss: 6.9769 - mae: 6.9769\n",
            "Epoch 84/100\n",
            "1/1 [==============================] - 0s 6ms/step - loss: 6.9713 - mae: 6.9713\n",
            "Epoch 85/100\n",
            "1/1 [==============================] - 0s 9ms/step - loss: 6.9656 - mae: 6.9656\n",
            "Epoch 86/100\n",
            "1/1 [==============================] - 0s 7ms/step - loss: 6.9600 - mae: 6.9600\n",
            "Epoch 87/100\n",
            "1/1 [==============================] - 0s 7ms/step - loss: 6.9544 - mae: 6.9544\n",
            "Epoch 88/100\n",
            "1/1 [==============================] - 0s 7ms/step - loss: 6.9488 - mae: 6.9488\n",
            "Epoch 89/100\n",
            "1/1 [==============================] - 0s 7ms/step - loss: 6.9431 - mae: 6.9431\n",
            "Epoch 90/100\n",
            "1/1 [==============================] - 0s 6ms/step - loss: 6.9375 - mae: 6.9375\n",
            "Epoch 91/100\n",
            "1/1 [==============================] - 0s 7ms/step - loss: 6.9319 - mae: 6.9319\n",
            "Epoch 92/100\n",
            "1/1 [==============================] - 0s 6ms/step - loss: 6.9263 - mae: 6.9263\n",
            "Epoch 93/100\n",
            "1/1 [==============================] - 0s 13ms/step - loss: 6.9206 - mae: 6.9206\n",
            "Epoch 94/100\n",
            "1/1 [==============================] - 0s 6ms/step - loss: 6.9150 - mae: 6.9150\n",
            "Epoch 95/100\n",
            "1/1 [==============================] - 0s 6ms/step - loss: 6.9094 - mae: 6.9094\n",
            "Epoch 96/100\n",
            "1/1 [==============================] - 0s 6ms/step - loss: 6.9038 - mae: 6.9038\n",
            "Epoch 97/100\n",
            "1/1 [==============================] - 0s 6ms/step - loss: 6.8981 - mae: 6.8981\n",
            "Epoch 98/100\n",
            "1/1 [==============================] - 0s 6ms/step - loss: 6.8925 - mae: 6.8925\n",
            "Epoch 99/100\n",
            "1/1 [==============================] - 0s 6ms/step - loss: 6.8869 - mae: 6.8869\n",
            "Epoch 100/100\n",
            "1/1 [==============================] - 0s 6ms/step - loss: 6.8813 - mae: 6.8813\n"
          ]
        },
        {
          "output_type": "execute_result",
          "data": {
            "text/plain": [
              "<keras.callbacks.History at 0x7f64badab2e0>"
            ]
          },
          "metadata": {},
          "execution_count": 19
        }
      ]
    },
    {
      "cell_type": "code",
      "source": [
        "# remind ourselves of the data\n",
        "X, y"
      ],
      "metadata": {
        "colab": {
          "base_uri": "https://localhost:8080/"
        },
        "id": "WUuV6V90E12T",
        "outputId": "f4ba557b-ef7b-4322-a21b-c48b6da91550"
      },
      "execution_count": null,
      "outputs": [
        {
          "output_type": "execute_result",
          "data": {
            "text/plain": [
              "(<tf.Tensor: shape=(8,), dtype=float64, numpy=array([-7., -4., -1.,  2.,  5.,  8., 11., 14.])>,\n",
              " <tf.Tensor: shape=(8,), dtype=float64, numpy=array([ 3.,  6.,  9., 12., 15., 18., 21., 24.])>)"
            ]
          },
          "metadata": {},
          "execution_count": 20
        }
      ]
    },
    {
      "cell_type": "code",
      "source": [
        "# let's see if our model prediction has improved\n",
        "model.predict([17.0])"
      ],
      "metadata": {
        "colab": {
          "base_uri": "https://localhost:8080/"
        },
        "id": "D26Ysu1OE2bo",
        "outputId": "0aaf5030-683c-4893-f6d0-a0aa5160c718"
      },
      "execution_count": null,
      "outputs": [
        {
          "output_type": "stream",
          "name": "stdout",
          "text": [
            "1/1 [==============================] - 0s 63ms/step\n"
          ]
        },
        {
          "output_type": "execute_result",
          "data": {
            "text/plain": [
              "array([[30.158512]], dtype=float32)"
            ]
          },
          "metadata": {},
          "execution_count": 21
        }
      ]
    },
    {
      "cell_type": "markdown",
      "source": [
        "let's tweak the parameter again once "
      ],
      "metadata": {
        "id": "D94bBdIkFmPY"
      }
    },
    {
      "cell_type": "code",
      "source": [
        "# create a model\n",
        "model = tf.keras.Sequential([\n",
        "    tf.keras.layers.Dense(100, activation=\"relu\"),\n",
        "    tf.keras.layers.Dense(100, activation=\"relu\"),\n",
        "    tf.keras.layers.Dense(100, activation=\"relu\"),\n",
        "    tf.keras.layers.Dense(1)\n",
        "])\n",
        "\n",
        "# compile the model\n",
        "model.compile(loss=tf.keras.losses.mae,\n",
        "              optimizer=tf.keras.optimizers.Adam(lr=0.0001),\n",
        "              metrics=[\"mae\"])\n",
        "\n",
        "# fit the model\n",
        "model.fit(tf.expand_dims(X, axis=-1), y, epochs=10)"
      ],
      "metadata": {
        "colab": {
          "base_uri": "https://localhost:8080/"
        },
        "id": "Za35_tQpGnKZ",
        "outputId": "f5c51486-6730-4b91-a4c9-107e28babb55"
      },
      "execution_count": null,
      "outputs": [
        {
          "output_type": "stream",
          "name": "stdout",
          "text": [
            "Epoch 1/10\n"
          ]
        },
        {
          "output_type": "stream",
          "name": "stderr",
          "text": [
            "/usr/local/lib/python3.8/dist-packages/keras/optimizers/optimizer_v2/adam.py:110: UserWarning: The `lr` argument is deprecated, use `learning_rate` instead.\n",
            "  super(Adam, self).__init__(name, **kwargs)\n"
          ]
        },
        {
          "output_type": "stream",
          "name": "stdout",
          "text": [
            "1/1 [==============================] - 1s 537ms/step - loss: 14.3099 - mae: 14.3099\n",
            "Epoch 2/10\n",
            "1/1 [==============================] - 0s 11ms/step - loss: 14.2781 - mae: 14.2781\n",
            "Epoch 3/10\n",
            "1/1 [==============================] - 0s 9ms/step - loss: 14.2469 - mae: 14.2469\n",
            "Epoch 4/10\n",
            "1/1 [==============================] - 0s 8ms/step - loss: 14.2158 - mae: 14.2158\n",
            "Epoch 5/10\n",
            "1/1 [==============================] - 0s 15ms/step - loss: 14.1840 - mae: 14.1840\n",
            "Epoch 6/10\n",
            "1/1 [==============================] - 0s 10ms/step - loss: 14.1522 - mae: 14.1522\n",
            "Epoch 7/10\n",
            "1/1 [==============================] - 0s 8ms/step - loss: 14.1204 - mae: 14.1204\n",
            "Epoch 8/10\n",
            "1/1 [==============================] - 0s 12ms/step - loss: 14.0885 - mae: 14.0885\n",
            "Epoch 9/10\n",
            "1/1 [==============================] - 0s 12ms/step - loss: 14.0568 - mae: 14.0568\n",
            "Epoch 10/10\n",
            "1/1 [==============================] - 0s 9ms/step - loss: 14.0250 - mae: 14.0250\n"
          ]
        },
        {
          "output_type": "execute_result",
          "data": {
            "text/plain": [
              "<keras.callbacks.History at 0x7f64bac9adc0>"
            ]
          },
          "metadata": {},
          "execution_count": 22
        }
      ]
    },
    {
      "cell_type": "code",
      "source": [
        "model.predict([17.0])"
      ],
      "metadata": {
        "colab": {
          "base_uri": "https://localhost:8080/"
        },
        "id": "HDYutJpz5WqE",
        "outputId": "5875a721-84a0-4eb3-fbf2-410b4e77d24d"
      },
      "execution_count": null,
      "outputs": [
        {
          "output_type": "stream",
          "name": "stdout",
          "text": [
            "1/1 [==============================] - 0s 115ms/step\n"
          ]
        },
        {
          "output_type": "execute_result",
          "data": {
            "text/plain": [
              "array([[-1.3610107]], dtype=float32)"
            ]
          },
          "metadata": {},
          "execution_count": 23
        }
      ]
    },
    {
      "cell_type": "code",
      "source": [
        "# create a model\n",
        "model = tf.keras.Sequential([\n",
        "    tf.keras.layers.Dense(100, activation=\"relu\"),\n",
        "    tf.keras.layers.Dense(100, activation=\"relu\"),\n",
        "    tf.keras.layers.Dense(100, activation=\"relu\"),\n",
        "    tf.keras.layers.Dense(1)\n",
        "])\n",
        "\n",
        "# compile the model\n",
        "model.compile(loss=tf.keras.losses.mae,\n",
        "              optimizer=tf.keras.optimizers.Adam(lr=0.0001),\n",
        "              metrics=[\"mae\"])\n",
        "\n",
        "# fit the model\n",
        "model.fit(tf.expand_dims(X, axis=-1), y, epochs=10)"
      ],
      "metadata": {
        "id": "8K-VSx02yfoZ",
        "colab": {
          "base_uri": "https://localhost:8080/"
        },
        "outputId": "830c028b-54df-4f90-b7fc-741bba5b3c83"
      },
      "execution_count": null,
      "outputs": [
        {
          "output_type": "stream",
          "name": "stdout",
          "text": [
            "Epoch 1/10\n",
            "1/1 [==============================] - 0s 468ms/step - loss: 13.0174 - mae: 13.0174\n",
            "Epoch 2/10\n",
            "1/1 [==============================] - 0s 10ms/step - loss: 12.9723 - mae: 12.9723\n",
            "Epoch 3/10\n",
            "1/1 [==============================] - 0s 8ms/step - loss: 12.9271 - mae: 12.9271\n",
            "Epoch 4/10\n",
            "1/1 [==============================] - 0s 8ms/step - loss: 12.8814 - mae: 12.8814\n",
            "Epoch 5/10\n",
            "1/1 [==============================] - 0s 9ms/step - loss: 12.8340 - mae: 12.8340\n",
            "Epoch 6/10\n",
            "1/1 [==============================] - 0s 8ms/step - loss: 12.7858 - mae: 12.7858\n",
            "Epoch 7/10\n",
            "1/1 [==============================] - 0s 10ms/step - loss: 12.7374 - mae: 12.7374\n",
            "Epoch 8/10\n",
            "1/1 [==============================] - 0s 10ms/step - loss: 12.6890 - mae: 12.6890\n",
            "Epoch 9/10\n",
            "1/1 [==============================] - 0s 9ms/step - loss: 12.6405 - mae: 12.6405\n",
            "Epoch 10/10\n",
            "1/1 [==============================] - 0s 12ms/step - loss: 12.5920 - mae: 12.5920\n"
          ]
        },
        {
          "output_type": "execute_result",
          "data": {
            "text/plain": [
              "<keras.callbacks.History at 0x7f64b845d3a0>"
            ]
          },
          "metadata": {},
          "execution_count": 24
        }
      ]
    },
    {
      "cell_type": "markdown",
      "source": [
        "## steps in improving a model part 2"
      ],
      "metadata": {
        "id": "bWMdbfhN4E4P"
      }
    },
    {
      "cell_type": "code",
      "source": [
        "# let's see if we can make another change to imporove our model\n",
        "\n",
        "# create the model with an extra hidden layer with 100 hidden units \n",
        "model = tf.keras.Sequential([\n",
        "    tf.keras.layers.Dense(50, activation=None),\n",
        "    tf.keras.layers.Dense(1)\n",
        "])\n",
        "# compile\n",
        "model.compile(loss=tf.keras.losses.mae,\n",
        "              optimizer=tf.keras.optimizers.Adam(lr=0.01),\n",
        "              metrics=[\"mae\"])\n",
        "# fit the model\n",
        "model.fit(tf.expand_dims(X, axis=-1), y, epochs=100)"
      ],
      "metadata": {
        "colab": {
          "base_uri": "https://localhost:8080/"
        },
        "id": "FgPRH1TR4I_B",
        "outputId": "41a961d2-bea0-459f-e4a9-aeb8a978ab0c"
      },
      "execution_count": null,
      "outputs": [
        {
          "output_type": "stream",
          "name": "stdout",
          "text": [
            "Epoch 1/100\n",
            "1/1 [==============================] - 0s 418ms/step - loss: 14.2190 - mae: 14.2190\n",
            "Epoch 2/100\n",
            "1/1 [==============================] - 0s 8ms/step - loss: 13.5222 - mae: 13.5222\n",
            "Epoch 3/100\n",
            "1/1 [==============================] - 0s 7ms/step - loss: 12.8277 - mae: 12.8277\n",
            "Epoch 4/100\n",
            "1/1 [==============================] - 0s 8ms/step - loss: 12.1351 - mae: 12.1351\n",
            "Epoch 5/100\n",
            "1/1 [==============================] - 0s 7ms/step - loss: 11.4431 - mae: 11.4431\n",
            "Epoch 6/100\n",
            "1/1 [==============================] - 0s 7ms/step - loss: 10.7496 - mae: 10.7496\n",
            "Epoch 7/100\n",
            "1/1 [==============================] - 0s 8ms/step - loss: 10.0519 - mae: 10.0519\n",
            "Epoch 8/100\n",
            "1/1 [==============================] - 0s 7ms/step - loss: 9.3466 - mae: 9.3466\n",
            "Epoch 9/100\n",
            "1/1 [==============================] - 0s 7ms/step - loss: 8.6305 - mae: 8.6305\n",
            "Epoch 10/100\n",
            "1/1 [==============================] - 0s 8ms/step - loss: 7.9001 - mae: 7.9001\n",
            "Epoch 11/100\n",
            "1/1 [==============================] - 0s 8ms/step - loss: 7.1520 - mae: 7.1520\n",
            "Epoch 12/100\n",
            "1/1 [==============================] - 0s 6ms/step - loss: 6.7056 - mae: 6.7056\n",
            "Epoch 13/100\n",
            "1/1 [==============================] - 0s 8ms/step - loss: 6.8974 - mae: 6.8974\n",
            "Epoch 14/100\n",
            "1/1 [==============================] - 0s 8ms/step - loss: 7.1929 - mae: 7.1929\n",
            "Epoch 15/100\n",
            "1/1 [==============================] - 0s 19ms/step - loss: 7.4650 - mae: 7.4650\n",
            "Epoch 16/100\n",
            "1/1 [==============================] - 0s 8ms/step - loss: 7.5928 - mae: 7.5928\n",
            "Epoch 17/100\n",
            "1/1 [==============================] - 0s 6ms/step - loss: 7.5230 - mae: 7.5230\n",
            "Epoch 18/100\n",
            "1/1 [==============================] - 0s 9ms/step - loss: 7.3026 - mae: 7.3026\n",
            "Epoch 19/100\n",
            "1/1 [==============================] - 0s 5ms/step - loss: 6.9837 - mae: 6.9837\n",
            "Epoch 20/100\n",
            "1/1 [==============================] - 0s 5ms/step - loss: 6.7448 - mae: 6.7448\n",
            "Epoch 21/100\n",
            "1/1 [==============================] - 0s 5ms/step - loss: 6.4880 - mae: 6.4880\n",
            "Epoch 22/100\n",
            "1/1 [==============================] - 0s 8ms/step - loss: 6.2173 - mae: 6.2173\n",
            "Epoch 23/100\n",
            "1/1 [==============================] - 0s 6ms/step - loss: 6.0636 - mae: 6.0636\n",
            "Epoch 24/100\n",
            "1/1 [==============================] - 0s 7ms/step - loss: 6.0210 - mae: 6.0210\n",
            "Epoch 25/100\n",
            "1/1 [==============================] - 0s 11ms/step - loss: 6.0911 - mae: 6.0911\n",
            "Epoch 26/100\n",
            "1/1 [==============================] - 0s 6ms/step - loss: 6.1629 - mae: 6.1629\n",
            "Epoch 27/100\n",
            "1/1 [==============================] - 0s 6ms/step - loss: 6.1349 - mae: 6.1349\n",
            "Epoch 28/100\n",
            "1/1 [==============================] - 0s 6ms/step - loss: 6.0196 - mae: 6.0196\n",
            "Epoch 29/100\n",
            "1/1 [==============================] - 0s 10ms/step - loss: 5.8261 - mae: 5.8261\n",
            "Epoch 30/100\n",
            "1/1 [==============================] - 0s 6ms/step - loss: 5.5859 - mae: 5.5859\n",
            "Epoch 31/100\n",
            "1/1 [==============================] - 0s 6ms/step - loss: 5.4871 - mae: 5.4871\n",
            "Epoch 32/100\n",
            "1/1 [==============================] - 0s 9ms/step - loss: 5.3856 - mae: 5.3856\n",
            "Epoch 33/100\n",
            "1/1 [==============================] - 0s 6ms/step - loss: 5.2977 - mae: 5.2977\n",
            "Epoch 34/100\n",
            "1/1 [==============================] - 0s 12ms/step - loss: 5.2779 - mae: 5.2779\n",
            "Epoch 35/100\n",
            "1/1 [==============================] - 0s 14ms/step - loss: 5.2172 - mae: 5.2172\n",
            "Epoch 36/100\n",
            "1/1 [==============================] - 0s 6ms/step - loss: 5.1187 - mae: 5.1187\n",
            "Epoch 37/100\n",
            "1/1 [==============================] - 0s 6ms/step - loss: 4.9860 - mae: 4.9860\n",
            "Epoch 38/100\n",
            "1/1 [==============================] - 0s 6ms/step - loss: 4.8269 - mae: 4.8269\n",
            "Epoch 39/100\n",
            "1/1 [==============================] - 0s 6ms/step - loss: 4.7377 - mae: 4.7377\n",
            "Epoch 40/100\n",
            "1/1 [==============================] - 0s 9ms/step - loss: 4.6423 - mae: 4.6423\n",
            "Epoch 41/100\n",
            "1/1 [==============================] - 0s 6ms/step - loss: 4.5406 - mae: 4.5406\n",
            "Epoch 42/100\n",
            "1/1 [==============================] - 0s 9ms/step - loss: 4.4325 - mae: 4.4325\n",
            "Epoch 43/100\n",
            "1/1 [==============================] - 0s 6ms/step - loss: 4.3178 - mae: 4.3178\n",
            "Epoch 44/100\n",
            "1/1 [==============================] - 0s 6ms/step - loss: 4.1964 - mae: 4.1964\n",
            "Epoch 45/100\n",
            "1/1 [==============================] - 0s 8ms/step - loss: 4.0680 - mae: 4.0680\n",
            "Epoch 46/100\n",
            "1/1 [==============================] - 0s 6ms/step - loss: 3.9325 - mae: 3.9325\n",
            "Epoch 47/100\n",
            "1/1 [==============================] - 0s 11ms/step - loss: 3.7897 - mae: 3.7897\n",
            "Epoch 48/100\n",
            "1/1 [==============================] - 0s 6ms/step - loss: 3.6392 - mae: 3.6392\n",
            "Epoch 49/100\n",
            "1/1 [==============================] - 0s 6ms/step - loss: 3.4809 - mae: 3.4809\n",
            "Epoch 50/100\n",
            "1/1 [==============================] - 0s 6ms/step - loss: 3.3144 - mae: 3.3144\n",
            "Epoch 51/100\n",
            "1/1 [==============================] - 0s 6ms/step - loss: 3.1728 - mae: 3.1728\n",
            "Epoch 52/100\n",
            "1/1 [==============================] - 0s 6ms/step - loss: 2.9969 - mae: 2.9969\n",
            "Epoch 53/100\n",
            "1/1 [==============================] - 0s 7ms/step - loss: 2.7997 - mae: 2.7997\n",
            "Epoch 54/100\n",
            "1/1 [==============================] - 0s 7ms/step - loss: 2.6203 - mae: 2.6203\n",
            "Epoch 55/100\n",
            "1/1 [==============================] - 0s 7ms/step - loss: 2.4299 - mae: 2.4299\n",
            "Epoch 56/100\n",
            "1/1 [==============================] - 0s 10ms/step - loss: 2.2284 - mae: 2.2284\n",
            "Epoch 57/100\n",
            "1/1 [==============================] - 0s 6ms/step - loss: 2.0155 - mae: 2.0155\n",
            "Epoch 58/100\n",
            "1/1 [==============================] - 0s 6ms/step - loss: 1.7988 - mae: 1.7988\n",
            "Epoch 59/100\n",
            "1/1 [==============================] - 0s 7ms/step - loss: 1.5428 - mae: 1.5428\n",
            "Epoch 60/100\n",
            "1/1 [==============================] - 0s 7ms/step - loss: 1.4096 - mae: 1.4096\n",
            "Epoch 61/100\n",
            "1/1 [==============================] - 0s 7ms/step - loss: 1.2272 - mae: 1.2272\n",
            "Epoch 62/100\n",
            "1/1 [==============================] - 0s 7ms/step - loss: 0.8590 - mae: 0.8590\n",
            "Epoch 63/100\n",
            "1/1 [==============================] - 0s 7ms/step - loss: 0.6155 - mae: 0.6155\n",
            "Epoch 64/100\n",
            "1/1 [==============================] - 0s 7ms/step - loss: 0.3959 - mae: 0.3959\n",
            "Epoch 65/100\n",
            "1/1 [==============================] - 0s 12ms/step - loss: 0.0218 - mae: 0.0218\n",
            "Epoch 66/100\n",
            "1/1 [==============================] - 0s 6ms/step - loss: 0.4711 - mae: 0.4711\n",
            "Epoch 67/100\n",
            "1/1 [==============================] - 0s 6ms/step - loss: 0.6543 - mae: 0.6543\n",
            "Epoch 68/100\n",
            "1/1 [==============================] - 0s 6ms/step - loss: 0.5963 - mae: 0.5963\n",
            "Epoch 69/100\n",
            "1/1 [==============================] - 0s 7ms/step - loss: 0.7228 - mae: 0.7228\n",
            "Epoch 70/100\n",
            "1/1 [==============================] - 0s 6ms/step - loss: 0.8335 - mae: 0.8335\n",
            "Epoch 71/100\n",
            "1/1 [==============================] - 0s 7ms/step - loss: 0.6917 - mae: 0.6917\n",
            "Epoch 72/100\n",
            "1/1 [==============================] - 0s 7ms/step - loss: 0.6132 - mae: 0.6132\n",
            "Epoch 73/100\n",
            "1/1 [==============================] - 0s 7ms/step - loss: 0.6307 - mae: 0.6307\n",
            "Epoch 74/100\n",
            "1/1 [==============================] - 0s 13ms/step - loss: 0.4528 - mae: 0.4528\n",
            "Epoch 75/100\n",
            "1/1 [==============================] - 0s 6ms/step - loss: 0.3386 - mae: 0.3386\n",
            "Epoch 76/100\n",
            "1/1 [==============================] - 0s 6ms/step - loss: 0.2970 - mae: 0.2970\n",
            "Epoch 77/100\n",
            "1/1 [==============================] - 0s 6ms/step - loss: 0.0411 - mae: 0.0411\n",
            "Epoch 78/100\n",
            "1/1 [==============================] - 0s 6ms/step - loss: 0.1313 - mae: 0.1313\n",
            "Epoch 79/100\n",
            "1/1 [==============================] - 0s 6ms/step - loss: 0.2561 - mae: 0.2561\n",
            "Epoch 80/100\n",
            "1/1 [==============================] - 0s 6ms/step - loss: 0.2130 - mae: 0.2130\n",
            "Epoch 81/100\n",
            "1/1 [==============================] - 0s 6ms/step - loss: 0.2437 - mae: 0.2437\n",
            "Epoch 82/100\n",
            "1/1 [==============================] - 0s 10ms/step - loss: 0.1688 - mae: 0.1688\n",
            "Epoch 83/100\n",
            "1/1 [==============================] - 0s 13ms/step - loss: 0.1495 - mae: 0.1495\n",
            "Epoch 84/100\n",
            "1/1 [==============================] - 0s 9ms/step - loss: 0.0528 - mae: 0.0528\n",
            "Epoch 85/100\n",
            "1/1 [==============================] - 0s 7ms/step - loss: 0.1045 - mae: 0.1045\n",
            "Epoch 86/100\n",
            "1/1 [==============================] - 0s 10ms/step - loss: 0.1800 - mae: 0.1800\n",
            "Epoch 87/100\n",
            "1/1 [==============================] - 0s 88ms/step - loss: 0.1774 - mae: 0.1774\n",
            "Epoch 88/100\n",
            "1/1 [==============================] - 0s 6ms/step - loss: 0.2042 - mae: 0.2042\n",
            "Epoch 89/100\n",
            "1/1 [==============================] - 0s 6ms/step - loss: 0.1517 - mae: 0.1517\n",
            "Epoch 90/100\n",
            "1/1 [==============================] - 0s 6ms/step - loss: 0.1144 - mae: 0.1144\n",
            "Epoch 91/100\n",
            "1/1 [==============================] - 0s 6ms/step - loss: 0.0645 - mae: 0.0645\n",
            "Epoch 92/100\n",
            "1/1 [==============================] - 0s 6ms/step - loss: 0.1452 - mae: 0.1452\n",
            "Epoch 93/100\n",
            "1/1 [==============================] - 0s 6ms/step - loss: 0.1613 - mae: 0.1613\n",
            "Epoch 94/100\n",
            "1/1 [==============================] - 0s 6ms/step - loss: 0.1584 - mae: 0.1584\n",
            "Epoch 95/100\n",
            "1/1 [==============================] - 0s 6ms/step - loss: 0.0845 - mae: 0.0845\n",
            "Epoch 96/100\n",
            "1/1 [==============================] - 0s 6ms/step - loss: 0.2478 - mae: 0.2478\n",
            "Epoch 97/100\n",
            "1/1 [==============================] - 0s 10ms/step - loss: 0.1990 - mae: 0.1990\n",
            "Epoch 98/100\n",
            "1/1 [==============================] - 0s 6ms/step - loss: 0.1410 - mae: 0.1410\n",
            "Epoch 99/100\n",
            "1/1 [==============================] - 0s 6ms/step - loss: 0.1533 - mae: 0.1533\n",
            "Epoch 100/100\n",
            "1/1 [==============================] - 0s 6ms/step - loss: 0.1460 - mae: 0.1460\n"
          ]
        },
        {
          "output_type": "execute_result",
          "data": {
            "text/plain": [
              "<keras.callbacks.History at 0x7f64b83b2670>"
            ]
          },
          "metadata": {},
          "execution_count": 25
        }
      ]
    },
    {
      "cell_type": "code",
      "source": [
        "# let's remind ourselves of the data\n",
        "X, y"
      ],
      "metadata": {
        "colab": {
          "base_uri": "https://localhost:8080/"
        },
        "id": "q9qgVgSF6iLt",
        "outputId": "eb4a983e-8059-4694-e5e4-89a4686f597a"
      },
      "execution_count": null,
      "outputs": [
        {
          "output_type": "execute_result",
          "data": {
            "text/plain": [
              "(<tf.Tensor: shape=(8,), dtype=float64, numpy=array([-7., -4., -1.,  2.,  5.,  8., 11., 14.])>,\n",
              " <tf.Tensor: shape=(8,), dtype=float64, numpy=array([ 3.,  6.,  9., 12., 15., 18., 21., 24.])>)"
            ]
          },
          "metadata": {},
          "execution_count": 26
        }
      ]
    },
    {
      "cell_type": "code",
      "source": [
        "# make predicition\n",
        "model.predict([17.0]) # see the result, overfitting!"
      ],
      "metadata": {
        "colab": {
          "base_uri": "https://localhost:8080/"
        },
        "id": "qY3KcBwm6qth",
        "outputId": "4979420f-3027-4691-ea09-cd91a17918c0"
      },
      "execution_count": null,
      "outputs": [
        {
          "output_type": "stream",
          "name": "stdout",
          "text": [
            "1/1 [==============================] - 0s 62ms/step\n"
          ]
        },
        {
          "output_type": "execute_result",
          "data": {
            "text/plain": [
              "array([[26.675219]], dtype=float32)"
            ]
          },
          "metadata": {},
          "execution_count": 27
        }
      ]
    },
    {
      "cell_type": "markdown",
      "source": [
        "common ways to imporove a deep learning model:\n",
        "1. adding layers\n",
        "2. increase the number of hidden units\n",
        "3. change the activation functions\n",
        "4. change the optimization functions\n",
        "5. change the learning rate (the most important hyperparameter)\n",
        "6. fitting on more data\n",
        "7. fitting for more epochs\n"
      ],
      "metadata": {
        "id": "8gGuodPS9OZU"
      }
    },
    {
      "cell_type": "markdown",
      "source": [
        "## Evaluating a model's performance\n",
        "\n",
        "in practice, a typical workflow you'll go through when building neural networks is:\n",
        "\n",
        "build a model -> fit it -> evaluate it -> tweak a model -> fit it -> evaluate it -> tweak a model -> fit it -> evaluate it .....\n",
        "\n",
        "when it comes to evaluation... there are 3 words you should memorize:\n",
        "> \"visualize, visualize, visualize!\"\n",
        "\n",
        "it's a good idea to visualize :\n",
        "* the data - what data are we working with?\n",
        "* the model itself - what does our model look like?\n",
        "* the training of a model - how does a model perform while it learns?\n",
        "* the predictions - how do the predictions of a model line up against the ground truth? "
      ],
      "metadata": {
        "id": "eL-ra-eL-5tC"
      }
    },
    {
      "cell_type": "code",
      "source": [
        "# make a bigger data set \n",
        "X = tf.range(-100, 100, 4)\n",
        "X"
      ],
      "metadata": {
        "colab": {
          "base_uri": "https://localhost:8080/"
        },
        "id": "24RFVQzJ63g5",
        "outputId": "4b048dc8-99bf-49d8-cee7-76c177544306"
      },
      "execution_count": null,
      "outputs": [
        {
          "output_type": "execute_result",
          "data": {
            "text/plain": [
              "<tf.Tensor: shape=(50,), dtype=int32, numpy=\n",
              "array([-100,  -96,  -92,  -88,  -84,  -80,  -76,  -72,  -68,  -64,  -60,\n",
              "        -56,  -52,  -48,  -44,  -40,  -36,  -32,  -28,  -24,  -20,  -16,\n",
              "        -12,   -8,   -4,    0,    4,    8,   12,   16,   20,   24,   28,\n",
              "         32,   36,   40,   44,   48,   52,   56,   60,   64,   68,   72,\n",
              "         76,   80,   84,   88,   92,   96], dtype=int32)>"
            ]
          },
          "metadata": {},
          "execution_count": 28
        }
      ]
    },
    {
      "cell_type": "code",
      "source": [
        "# make labels for the dataset\n",
        "y = X + 10\n",
        "y"
      ],
      "metadata": {
        "colab": {
          "base_uri": "https://localhost:8080/"
        },
        "id": "NThSf-C8Gz2J",
        "outputId": "de67feaa-b49a-4ffd-d06a-21b7e1d16b0c"
      },
      "execution_count": null,
      "outputs": [
        {
          "output_type": "execute_result",
          "data": {
            "text/plain": [
              "<tf.Tensor: shape=(50,), dtype=int32, numpy=\n",
              "array([-90, -86, -82, -78, -74, -70, -66, -62, -58, -54, -50, -46, -42,\n",
              "       -38, -34, -30, -26, -22, -18, -14, -10,  -6,  -2,   2,   6,  10,\n",
              "        14,  18,  22,  26,  30,  34,  38,  42,  46,  50,  54,  58,  62,\n",
              "        66,  70,  74,  78,  82,  86,  90,  94,  98, 102, 106], dtype=int32)>"
            ]
          },
          "metadata": {},
          "execution_count": 29
        }
      ]
    },
    {
      "cell_type": "code",
      "source": [
        "# visualize the data\n",
        "import matplotlib.pyplot as plt\n",
        "plt.scatter(X, y)"
      ],
      "metadata": {
        "colab": {
          "base_uri": "https://localhost:8080/",
          "height": 283
        },
        "id": "-vQswHzdGz4W",
        "outputId": "e42db6ec-380a-44d6-e8ef-f544dc14b3c5"
      },
      "execution_count": null,
      "outputs": [
        {
          "output_type": "execute_result",
          "data": {
            "text/plain": [
              "<matplotlib.collections.PathCollection at 0x7f64b824e160>"
            ]
          },
          "metadata": {},
          "execution_count": 30
        },
        {
          "output_type": "display_data",
          "data": {
            "text/plain": [
              "<Figure size 432x288 with 1 Axes>"
            ],
            "image/png": "[encoded data removed]"
          },
          "metadata": {
            "needs_background": "light"
          }
        }
      ]
    },
    {
      "cell_type": "markdown",
      "source": [
        "the 3 sets\n",
        "\n",
        "* **training set** - the model learns from this data, which is typically 70-80% of the total data you have available. \n",
        "* **validation set** - the model gets tuned of this data, which is typically 10-15% of the data\n",
        "* **test set** - the model gets evaluated on this data to test what it has learned, which is typically 10-15% of the total data available. "
      ],
      "metadata": {
        "id": "35104RlfJO40"
      }
    },
    {
      "cell_type": "code",
      "source": [
        "## the 3 sets...\n",
        "# check the lenght \n",
        "len(X) # pretty small, so no validation set in this case"
      ],
      "metadata": {
        "colab": {
          "base_uri": "https://localhost:8080/"
        },
        "id": "mDzm2qsFGz64",
        "outputId": "ad989755-98f4-4ed4-91bb-f8a84a8b07f2"
      },
      "execution_count": null,
      "outputs": [
        {
          "output_type": "execute_result",
          "data": {
            "text/plain": [
              "50"
            ]
          },
          "metadata": {},
          "execution_count": 31
        }
      ]
    },
    {
      "cell_type": "code",
      "source": [
        "# split the data into train and test sets\n",
        "X_train = X[:40] # first 40 are training samples (80%)\n",
        "y_train = y[:40]\n",
        "\n",
        "X_test = X[40:] # last 10 are testing samples (20%0)\n",
        "y_test = y[40:]"
      ],
      "metadata": {
        "id": "8hl7KTp1Leqg"
      },
      "execution_count": null,
      "outputs": []
    },
    {
      "cell_type": "markdown",
      "source": [
        "### visualizig the data \n",
        "\n",
        "Now we've got our data in training and test sets... let's visualize it"
      ],
      "metadata": {
        "id": "GFry78G2MTnK"
      }
    },
    {
      "cell_type": "code",
      "source": [
        "plt.figure(figsize=(10, 7))\n",
        "# plot training data in blue \n",
        "plt.scatter(X_train, y_train, c=\"b\", label=\"Training data\")\n",
        "# plot test data in green\n",
        "plt.scatter(X_test, y_test, c=\"g\", label=\"Testing data\")\n",
        "# show a legend\n",
        "plt.legend();"
      ],
      "metadata": {
        "colab": {
          "base_uri": "https://localhost:8080/",
          "height": 428
        },
        "id": "9ESfUkZgMEWO",
        "outputId": "6280693e-58c0-489d-fc4f-e2efaaedd68f"
      },
      "execution_count": null,
      "outputs": [
        {
          "output_type": "display_data",
          "data": {
            "text/plain": [
              "<Figure size 720x504 with 1 Axes>"
            ],
            "image/png": "[encoded data removed]"
          },
          "metadata": {
            "needs_background": "light"
          }
        }
      ]
    },
    {
      "cell_type": "code",
      "source": [
        "# let's have a look at how to build a neural network for our data\n",
        "\n",
        "# create a model\n",
        "model = tf.keras.Sequential([\n",
        "    tf.keras.layers.Dense(1)\n",
        "])\n",
        "\n",
        "# compile the model\n",
        "model.compile(loss=tf.keras.losses.mae,\n",
        "              optimizer=tf.keras.optimizers.SGD(),\n",
        "              metrics=[\"mae\"])\n",
        "\n",
        "# fit the model\n",
        "model.fit(tf.expand_dims(X_train, axis=-1), y_train, epochs=100)"
      ],
      "metadata": {
        "colab": {
          "base_uri": "https://localhost:8080/"
        },
        "id": "xtT8EXdogTGx",
        "outputId": "c4972c27-bf3d-48f0-9290-9fd91437cac7"
      },
      "execution_count": null,
      "outputs": [
        {
          "output_type": "stream",
          "name": "stdout",
          "text": [
            "Epoch 1/100\n",
            "2/2 [==============================] - 0s 5ms/step - loss: 21.5127 - mae: 21.5127\n",
            "Epoch 2/100\n",
            "2/2 [==============================] - 0s 5ms/step - loss: 9.8784 - mae: 9.8784\n",
            "Epoch 3/100\n",
            "2/2 [==============================] - 0s 5ms/step - loss: 11.3224 - mae: 11.3224\n",
            "Epoch 4/100\n",
            "2/2 [==============================] - 0s 7ms/step - loss: 9.5330 - mae: 9.5330\n",
            "Epoch 5/100\n",
            "2/2 [==============================] - 0s 5ms/step - loss: 10.4384 - mae: 10.4384\n",
            "Epoch 6/100\n",
            "2/2 [==============================] - 0s 5ms/step - loss: 9.6676 - mae: 9.6676\n",
            "Epoch 7/100\n",
            "2/2 [==============================] - 0s 5ms/step - loss: 8.7680 - mae: 8.7680\n",
            "Epoch 8/100\n",
            "2/2 [==============================] - 0s 4ms/step - loss: 9.0557 - mae: 9.0557\n",
            "Epoch 9/100\n",
            "2/2 [==============================] - 0s 4ms/step - loss: 19.2566 - mae: 19.2566\n",
            "Epoch 10/100\n",
            "2/2 [==============================] - 0s 6ms/step - loss: 10.3912 - mae: 10.3912\n",
            "Epoch 11/100\n",
            "2/2 [==============================] - 0s 6ms/step - loss: 8.5026 - mae: 8.5026\n",
            "Epoch 12/100\n",
            "2/2 [==============================] - 0s 4ms/step - loss: 10.8845 - mae: 10.8845\n",
            "Epoch 13/100\n",
            "2/2 [==============================] - 0s 5ms/step - loss: 9.9247 - mae: 9.9247\n",
            "Epoch 14/100\n",
            "2/2 [==============================] - 0s 7ms/step - loss: 9.4792 - mae: 9.4792\n",
            "Epoch 15/100\n",
            "2/2 [==============================] - 0s 7ms/step - loss: 13.7110 - mae: 13.7110\n",
            "Epoch 16/100\n",
            "2/2 [==============================] - 0s 6ms/step - loss: 8.9451 - mae: 8.9451\n",
            "Epoch 17/100\n",
            "2/2 [==============================] - 0s 5ms/step - loss: 12.8611 - mae: 12.8611\n",
            "Epoch 18/100\n",
            "2/2 [==============================] - 0s 5ms/step - loss: 10.4980 - mae: 10.4980\n",
            "Epoch 19/100\n",
            "2/2 [==============================] - 0s 5ms/step - loss: 19.1946 - mae: 19.1946\n",
            "Epoch 20/100\n",
            "2/2 [==============================] - 0s 6ms/step - loss: 15.8609 - mae: 15.8609\n",
            "Epoch 21/100\n",
            "2/2 [==============================] - 0s 5ms/step - loss: 11.6957 - mae: 11.6957\n",
            "Epoch 22/100\n",
            "2/2 [==============================] - 0s 5ms/step - loss: 8.8936 - mae: 8.8936\n",
            "Epoch 23/100\n",
            "2/2 [==============================] - 0s 6ms/step - loss: 10.0799 - mae: 10.0799\n",
            "Epoch 24/100\n",
            "2/2 [==============================] - 0s 7ms/step - loss: 15.5873 - mae: 15.5873\n",
            "Epoch 25/100\n",
            "2/2 [==============================] - 0s 6ms/step - loss: 12.0659 - mae: 12.0659\n",
            "Epoch 26/100\n",
            "2/2 [==============================] - 0s 5ms/step - loss: 13.1700 - mae: 13.1700\n",
            "Epoch 27/100\n",
            "2/2 [==============================] - 0s 5ms/step - loss: 10.6462 - mae: 10.6462\n",
            "Epoch 28/100\n",
            "2/2 [==============================] - 0s 6ms/step - loss: 12.8600 - mae: 12.8600\n",
            "Epoch 29/100\n",
            "2/2 [==============================] - 0s 5ms/step - loss: 9.4986 - mae: 9.4986\n",
            "Epoch 30/100\n",
            "2/2 [==============================] - 0s 5ms/step - loss: 16.3753 - mae: 16.3753\n",
            "Epoch 31/100\n",
            "2/2 [==============================] - 0s 11ms/step - loss: 23.6059 - mae: 23.6059\n",
            "Epoch 32/100\n",
            "2/2 [==============================] - 0s 6ms/step - loss: 7.6064 - mae: 7.6064\n",
            "Epoch 33/100\n",
            "2/2 [==============================] - 0s 7ms/step - loss: 9.3053 - mae: 9.3053\n",
            "Epoch 34/100\n",
            "2/2 [==============================] - 0s 4ms/step - loss: 13.6971 - mae: 13.6971\n",
            "Epoch 35/100\n",
            "2/2 [==============================] - 0s 5ms/step - loss: 11.1346 - mae: 11.1346\n",
            "Epoch 36/100\n",
            "2/2 [==============================] - 0s 4ms/step - loss: 13.3465 - mae: 13.3465\n",
            "Epoch 37/100\n",
            "2/2 [==============================] - 0s 4ms/step - loss: 9.4552 - mae: 9.4552\n",
            "Epoch 38/100\n",
            "2/2 [==============================] - 0s 4ms/step - loss: 10.1114 - mae: 10.1114\n",
            "Epoch 39/100\n",
            "2/2 [==============================] - 0s 4ms/step - loss: 10.1864 - mae: 10.1864\n",
            "Epoch 40/100\n",
            "2/2 [==============================] - 0s 6ms/step - loss: 10.9275 - mae: 10.9275\n",
            "Epoch 41/100\n",
            "2/2 [==============================] - 0s 3ms/step - loss: 7.9144 - mae: 7.9144\n",
            "Epoch 42/100\n",
            "2/2 [==============================] - 0s 4ms/step - loss: 10.0676 - mae: 10.0676\n",
            "Epoch 43/100\n",
            "2/2 [==============================] - 0s 4ms/step - loss: 8.6853 - mae: 8.6853\n",
            "Epoch 44/100\n",
            "2/2 [==============================] - 0s 4ms/step - loss: 12.1703 - mae: 12.1703\n",
            "Epoch 45/100\n",
            "2/2 [==============================] - 0s 4ms/step - loss: 13.8162 - mae: 13.8162\n",
            "Epoch 46/100\n",
            "2/2 [==============================] - 0s 12ms/step - loss: 8.4776 - mae: 8.4776\n",
            "Epoch 47/100\n",
            "2/2 [==============================] - 0s 7ms/step - loss: 9.1117 - mae: 9.1117\n",
            "Epoch 48/100\n",
            "2/2 [==============================] - 0s 4ms/step - loss: 10.5912 - mae: 10.5912\n",
            "Epoch 49/100\n",
            "2/2 [==============================] - 0s 4ms/step - loss: 7.7309 - mae: 7.7309\n",
            "Epoch 50/100\n",
            "2/2 [==============================] - 0s 4ms/step - loss: 9.5149 - mae: 9.5149\n",
            "Epoch 51/100\n",
            "2/2 [==============================] - 0s 4ms/step - loss: 9.1456 - mae: 9.1456\n",
            "Epoch 52/100\n",
            "2/2 [==============================] - 0s 3ms/step - loss: 16.3238 - mae: 16.3238\n",
            "Epoch 53/100\n",
            "2/2 [==============================] - 0s 6ms/step - loss: 14.1389 - mae: 14.1389\n",
            "Epoch 54/100\n",
            "2/2 [==============================] - 0s 4ms/step - loss: 21.1603 - mae: 21.1603\n",
            "Epoch 55/100\n",
            "2/2 [==============================] - 0s 4ms/step - loss: 16.3585 - mae: 16.3585\n",
            "Epoch 56/100\n",
            "2/2 [==============================] - 0s 5ms/step - loss: 9.9993 - mae: 9.9993\n",
            "Epoch 57/100\n",
            "2/2 [==============================] - 0s 6ms/step - loss: 9.9361 - mae: 9.9361\n",
            "Epoch 58/100\n",
            "2/2 [==============================] - 0s 4ms/step - loss: 9.1982 - mae: 9.1982\n",
            "Epoch 59/100\n",
            "2/2 [==============================] - 0s 4ms/step - loss: 8.4026 - mae: 8.4026\n",
            "Epoch 60/100\n",
            "2/2 [==============================] - 0s 4ms/step - loss: 9.4674 - mae: 9.4674\n",
            "Epoch 61/100\n",
            "2/2 [==============================] - 0s 4ms/step - loss: 11.4042 - mae: 11.4042\n",
            "Epoch 62/100\n",
            "2/2 [==============================] - 0s 3ms/step - loss: 11.7065 - mae: 11.7065\n",
            "Epoch 63/100\n",
            "2/2 [==============================] - 0s 5ms/step - loss: 7.0664 - mae: 7.0664\n",
            "Epoch 64/100\n",
            "2/2 [==============================] - 0s 4ms/step - loss: 16.9884 - mae: 16.9884\n",
            "Epoch 65/100\n",
            "2/2 [==============================] - 0s 5ms/step - loss: 12.4723 - mae: 12.4723\n",
            "Epoch 66/100\n",
            "2/2 [==============================] - 0s 8ms/step - loss: 13.0373 - mae: 13.0373\n",
            "Epoch 67/100\n",
            "2/2 [==============================] - 0s 4ms/step - loss: 8.0607 - mae: 8.0607\n",
            "Epoch 68/100\n",
            "2/2 [==============================] - 0s 5ms/step - loss: 10.1967 - mae: 10.1967\n",
            "Epoch 69/100\n",
            "2/2 [==============================] - 0s 3ms/step - loss: 12.3837 - mae: 12.3837\n",
            "Epoch 70/100\n",
            "2/2 [==============================] - 0s 3ms/step - loss: 9.0293 - mae: 9.0293\n",
            "Epoch 71/100\n",
            "2/2 [==============================] - 0s 4ms/step - loss: 10.0142 - mae: 10.0142\n",
            "Epoch 72/100\n",
            "2/2 [==============================] - 0s 4ms/step - loss: 10.0315 - mae: 10.0315\n",
            "Epoch 73/100\n",
            "2/2 [==============================] - 0s 4ms/step - loss: 12.5824 - mae: 12.5824\n",
            "Epoch 74/100\n",
            "2/2 [==============================] - 0s 4ms/step - loss: 10.4012 - mae: 10.4012\n",
            "Epoch 75/100\n",
            "2/2 [==============================] - 0s 5ms/step - loss: 9.7014 - mae: 9.7014\n",
            "Epoch 76/100\n",
            "2/2 [==============================] - 0s 12ms/step - loss: 11.1981 - mae: 11.1981\n",
            "Epoch 77/100\n",
            "2/2 [==============================] - 0s 4ms/step - loss: 8.3442 - mae: 8.3442\n",
            "Epoch 78/100\n",
            "2/2 [==============================] - 0s 4ms/step - loss: 9.0962 - mae: 9.0962\n",
            "Epoch 79/100\n",
            "2/2 [==============================] - 0s 4ms/step - loss: 19.5372 - mae: 19.5372\n",
            "Epoch 80/100\n",
            "2/2 [==============================] - 0s 4ms/step - loss: 14.8584 - mae: 14.8584\n",
            "Epoch 81/100\n",
            "2/2 [==============================] - 0s 4ms/step - loss: 9.0265 - mae: 9.0265\n",
            "Epoch 82/100\n",
            "2/2 [==============================] - 0s 4ms/step - loss: 12.9889 - mae: 12.9889\n",
            "Epoch 83/100\n",
            "2/2 [==============================] - 0s 4ms/step - loss: 7.9043 - mae: 7.9043\n",
            "Epoch 84/100\n",
            "2/2 [==============================] - 0s 3ms/step - loss: 7.6866 - mae: 7.6866\n",
            "Epoch 85/100\n",
            "2/2 [==============================] - 0s 4ms/step - loss: 10.0437 - mae: 10.0437\n",
            "Epoch 86/100\n",
            "2/2 [==============================] - 0s 4ms/step - loss: 9.2475 - mae: 9.2475\n",
            "Epoch 87/100\n",
            "2/2 [==============================] - 0s 4ms/step - loss: 12.0363 - mae: 12.0363\n",
            "Epoch 88/100\n",
            "2/2 [==============================] - 0s 4ms/step - loss: 10.6547 - mae: 10.6547\n",
            "Epoch 89/100\n",
            "2/2 [==============================] - 0s 5ms/step - loss: 7.2596 - mae: 7.2596\n",
            "Epoch 90/100\n",
            "2/2 [==============================] - 0s 6ms/step - loss: 12.7973 - mae: 12.7973\n",
            "Epoch 91/100\n",
            "2/2 [==============================] - 0s 4ms/step - loss: 7.4718 - mae: 7.4718\n",
            "Epoch 92/100\n",
            "2/2 [==============================] - 0s 44ms/step - loss: 6.7431 - mae: 6.7431\n",
            "Epoch 93/100\n",
            "2/2 [==============================] - 0s 4ms/step - loss: 11.9467 - mae: 11.9467\n",
            "Epoch 94/100\n",
            "2/2 [==============================] - 0s 4ms/step - loss: 8.8764 - mae: 8.8764\n",
            "Epoch 95/100\n",
            "2/2 [==============================] - 0s 4ms/step - loss: 7.7137 - mae: 7.7137\n",
            "Epoch 96/100\n",
            "2/2 [==============================] - 0s 4ms/step - loss: 6.7422 - mae: 6.7422\n",
            "Epoch 97/100\n",
            "2/2 [==============================] - 0s 4ms/step - loss: 8.6285 - mae: 8.6285\n",
            "Epoch 98/100\n",
            "2/2 [==============================] - 0s 4ms/step - loss: 9.3819 - mae: 9.3819\n",
            "Epoch 99/100\n",
            "2/2 [==============================] - 0s 6ms/step - loss: 9.1183 - mae: 9.1183\n",
            "Epoch 100/100\n",
            "2/2 [==============================] - 0s 4ms/step - loss: 10.4737 - mae: 10.4737\n"
          ]
        },
        {
          "output_type": "execute_result",
          "data": {
            "text/plain": [
              "<keras.callbacks.History at 0x7f64b81c11f0>"
            ]
          },
          "metadata": {},
          "execution_count": 34
        }
      ]
    },
    {
      "cell_type": "code",
      "source": [
        "# let's have a look at how to build a neural network for our data\n",
        "\n",
        "# create a model\n",
        "model = tf.keras.Sequential([\n",
        "    tf.keras.layers.Dense(10, input_shape=[1], name=\"input_layer\"),\n",
        "    tf.keras.layers.Dense(1, name=\"output_layer\")\n",
        "])\n",
        "\n",
        "# compile the model\n",
        "model.compile(loss=tf.keras.losses.mae,\n",
        "              optimizer=tf.keras.optimizers.SGD(),\n",
        "              metrics=[\"mae\"])\n",
        "\n",
        "# fit the model\n",
        "model.fit(tf.expand_dims(X_train, axis=-1), y_train, epochs=100)"
      ],
      "metadata": {
        "colab": {
          "base_uri": "https://localhost:8080/"
        },
        "id": "4JAJzvSiNokg",
        "outputId": "e1d6b568-f33a-4d6f-ecd9-5ad7afba1e51"
      },
      "execution_count": null,
      "outputs": [
        {
          "output_type": "stream",
          "name": "stdout",
          "text": [
            "Epoch 1/100\n",
            "2/2 [==============================] - 1s 5ms/step - loss: 18.9677 - mae: 18.9677\n",
            "Epoch 2/100\n",
            "2/2 [==============================] - 0s 10ms/step - loss: 23.6366 - mae: 23.6366\n",
            "Epoch 3/100\n",
            "2/2 [==============================] - 0s 8ms/step - loss: 28.8634 - mae: 28.8634\n",
            "Epoch 4/100\n",
            "2/2 [==============================] - 0s 4ms/step - loss: 14.0354 - mae: 14.0354\n",
            "Epoch 5/100\n",
            "2/2 [==============================] - 0s 4ms/step - loss: 19.1924 - mae: 19.1924\n",
            "Epoch 6/100\n",
            "2/2 [==============================] - 0s 4ms/step - loss: 9.5803 - mae: 9.5803\n",
            "Epoch 7/100\n",
            "2/2 [==============================] - 0s 4ms/step - loss: 10.5536 - mae: 10.5536\n",
            "Epoch 8/100\n",
            "2/2 [==============================] - 0s 4ms/step - loss: 12.8684 - mae: 12.8684\n",
            "Epoch 9/100\n",
            "2/2 [==============================] - 0s 3ms/step - loss: 33.8189 - mae: 33.8189\n",
            "Epoch 10/100\n",
            "2/2 [==============================] - 0s 4ms/step - loss: 23.1392 - mae: 23.1392\n",
            "Epoch 11/100\n",
            "2/2 [==============================] - 0s 9ms/step - loss: 10.2434 - mae: 10.2434\n",
            "Epoch 12/100\n",
            "2/2 [==============================] - 0s 4ms/step - loss: 25.2575 - mae: 25.2575\n",
            "Epoch 13/100\n",
            "2/2 [==============================] - 0s 4ms/step - loss: 17.0745 - mae: 17.0745\n",
            "Epoch 14/100\n",
            "2/2 [==============================] - 0s 7ms/step - loss: 26.0877 - mae: 26.0877\n",
            "Epoch 15/100\n",
            "2/2 [==============================] - 0s 11ms/step - loss: 18.1284 - mae: 18.1284\n",
            "Epoch 16/100\n",
            "2/2 [==============================] - 0s 4ms/step - loss: 7.8524 - mae: 7.8524\n",
            "Epoch 17/100\n",
            "2/2 [==============================] - 0s 3ms/step - loss: 22.2473 - mae: 22.2473\n",
            "Epoch 18/100\n",
            "2/2 [==============================] - 0s 4ms/step - loss: 10.8287 - mae: 10.8287\n",
            "Epoch 19/100\n",
            "2/2 [==============================] - 0s 7ms/step - loss: 10.7188 - mae: 10.7188\n",
            "Epoch 20/100\n",
            "2/2 [==============================] - 0s 6ms/step - loss: 12.0423 - mae: 12.0423\n",
            "Epoch 21/100\n",
            "2/2 [==============================] - 0s 11ms/step - loss: 20.1794 - mae: 20.1794\n",
            "Epoch 22/100\n",
            "2/2 [==============================] - 0s 4ms/step - loss: 13.7986 - mae: 13.7986\n",
            "Epoch 23/100\n",
            "2/2 [==============================] - 0s 4ms/step - loss: 9.5411 - mae: 9.5411\n",
            "Epoch 24/100\n",
            "2/2 [==============================] - 0s 4ms/step - loss: 11.8993 - mae: 11.8993\n",
            "Epoch 25/100\n",
            "2/2 [==============================] - 0s 5ms/step - loss: 16.2409 - mae: 16.2409\n",
            "Epoch 26/100\n",
            "2/2 [==============================] - 0s 4ms/step - loss: 16.4298 - mae: 16.4298\n",
            "Epoch 27/100\n",
            "2/2 [==============================] - 0s 4ms/step - loss: 11.5892 - mae: 11.5892\n",
            "Epoch 28/100\n",
            "2/2 [==============================] - 0s 4ms/step - loss: 30.0591 - mae: 30.0591\n",
            "Epoch 29/100\n",
            "2/2 [==============================] - 0s 4ms/step - loss: 9.2443 - mae: 9.2443\n",
            "Epoch 30/100\n",
            "2/2 [==============================] - 0s 4ms/step - loss: 30.5945 - mae: 30.5945\n",
            "Epoch 31/100\n",
            "2/2 [==============================] - 0s 10ms/step - loss: 55.6237 - mae: 55.6237\n",
            "Epoch 32/100\n",
            "2/2 [==============================] - 0s 4ms/step - loss: 9.7354 - mae: 9.7354\n",
            "Epoch 33/100\n",
            "2/2 [==============================] - 0s 4ms/step - loss: 12.3570 - mae: 12.3570\n",
            "Epoch 34/100\n",
            "2/2 [==============================] - 0s 4ms/step - loss: 24.7814 - mae: 24.7814\n",
            "Epoch 35/100\n",
            "2/2 [==============================] - 0s 4ms/step - loss: 11.9027 - mae: 11.9027\n",
            "Epoch 36/100\n",
            "2/2 [==============================] - 0s 13ms/step - loss: 22.0661 - mae: 22.0661\n",
            "Epoch 37/100\n",
            "2/2 [==============================] - 0s 4ms/step - loss: 17.8895 - mae: 17.8895\n",
            "Epoch 38/100\n",
            "2/2 [==============================] - 0s 4ms/step - loss: 9.9746 - mae: 9.9746\n",
            "Epoch 39/100\n",
            "2/2 [==============================] - 0s 4ms/step - loss: 10.5061 - mae: 10.5061\n",
            "Epoch 40/100\n",
            "2/2 [==============================] - 0s 4ms/step - loss: 15.6073 - mae: 15.6073\n",
            "Epoch 41/100\n",
            "2/2 [==============================] - 0s 4ms/step - loss: 11.8312 - mae: 11.8312\n",
            "Epoch 42/100\n",
            "2/2 [==============================] - 0s 4ms/step - loss: 9.9489 - mae: 9.9489\n",
            "Epoch 43/100\n",
            "2/2 [==============================] - 0s 4ms/step - loss: 9.7936 - mae: 9.7936\n",
            "Epoch 44/100\n",
            "2/2 [==============================] - 0s 4ms/step - loss: 30.6366 - mae: 30.6366\n",
            "Epoch 45/100\n",
            "2/2 [==============================] - 0s 4ms/step - loss: 11.9920 - mae: 11.9920\n",
            "Epoch 46/100\n",
            "2/2 [==============================] - 0s 11ms/step - loss: 16.1613 - mae: 16.1613\n",
            "Epoch 47/100\n",
            "2/2 [==============================] - 0s 4ms/step - loss: 15.0268 - mae: 15.0268\n",
            "Epoch 48/100\n",
            "2/2 [==============================] - 0s 4ms/step - loss: 14.2443 - mae: 14.2443\n",
            "Epoch 49/100\n",
            "2/2 [==============================] - 0s 4ms/step - loss: 13.7935 - mae: 13.7935\n",
            "Epoch 50/100\n",
            "2/2 [==============================] - 0s 4ms/step - loss: 12.6626 - mae: 12.6626\n",
            "Epoch 51/100\n",
            "2/2 [==============================] - 0s 4ms/step - loss: 14.7095 - mae: 14.7095\n",
            "Epoch 52/100\n",
            "2/2 [==============================] - 0s 4ms/step - loss: 18.6175 - mae: 18.6175\n",
            "Epoch 53/100\n",
            "2/2 [==============================] - 0s 9ms/step - loss: 23.9448 - mae: 23.9448\n",
            "Epoch 54/100\n",
            "2/2 [==============================] - 0s 4ms/step - loss: 23.9286 - mae: 23.9286\n",
            "Epoch 55/100\n",
            "2/2 [==============================] - 0s 4ms/step - loss: 23.1456 - mae: 23.1456\n",
            "Epoch 56/100\n",
            "2/2 [==============================] - 0s 10ms/step - loss: 10.8605 - mae: 10.8605\n",
            "Epoch 57/100\n",
            "2/2 [==============================] - 0s 4ms/step - loss: 12.7179 - mae: 12.7179\n",
            "Epoch 58/100\n",
            "2/2 [==============================] - 0s 7ms/step - loss: 9.5823 - mae: 9.5823\n",
            "Epoch 59/100\n",
            "2/2 [==============================] - 0s 4ms/step - loss: 12.4963 - mae: 12.4963\n",
            "Epoch 60/100\n",
            "2/2 [==============================] - 0s 4ms/step - loss: 12.3019 - mae: 12.3019\n",
            "Epoch 61/100\n",
            "2/2 [==============================] - 0s 5ms/step - loss: 17.4388 - mae: 17.4388\n",
            "Epoch 62/100\n",
            "2/2 [==============================] - 0s 9ms/step - loss: 10.5901 - mae: 10.5901\n",
            "Epoch 63/100\n",
            "2/2 [==============================] - 0s 4ms/step - loss: 10.4770 - mae: 10.4770\n",
            "Epoch 64/100\n",
            "2/2 [==============================] - 0s 4ms/step - loss: 24.8292 - mae: 24.8292\n",
            "Epoch 65/100\n",
            "2/2 [==============================] - 0s 6ms/step - loss: 10.6642 - mae: 10.6642\n",
            "Epoch 66/100\n",
            "2/2 [==============================] - 0s 7ms/step - loss: 21.7699 - mae: 21.7699\n",
            "Epoch 67/100\n",
            "2/2 [==============================] - 0s 4ms/step - loss: 10.7025 - mae: 10.7025\n",
            "Epoch 68/100\n",
            "2/2 [==============================] - 0s 6ms/step - loss: 10.6300 - mae: 10.6300\n",
            "Epoch 69/100\n",
            "2/2 [==============================] - 0s 4ms/step - loss: 22.6914 - mae: 22.6914\n",
            "Epoch 70/100\n",
            "2/2 [==============================] - 0s 3ms/step - loss: 9.3268 - mae: 9.3268\n",
            "Epoch 71/100\n",
            "2/2 [==============================] - 0s 4ms/step - loss: 15.4298 - mae: 15.4298\n",
            "Epoch 72/100\n",
            "2/2 [==============================] - 0s 8ms/step - loss: 6.7348 - mae: 6.7348\n",
            "Epoch 73/100\n",
            "2/2 [==============================] - 0s 4ms/step - loss: 11.6833 - mae: 11.6833\n",
            "Epoch 74/100\n",
            "2/2 [==============================] - 0s 5ms/step - loss: 24.0566 - mae: 24.0566\n",
            "Epoch 75/100\n",
            "2/2 [==============================] - 0s 6ms/step - loss: 9.5869 - mae: 9.5869\n",
            "Epoch 76/100\n",
            "2/2 [==============================] - 0s 4ms/step - loss: 12.4359 - mae: 12.4359\n",
            "Epoch 77/100\n",
            "2/2 [==============================] - 0s 4ms/step - loss: 16.6647 - mae: 16.6647\n",
            "Epoch 78/100\n",
            "2/2 [==============================] - 0s 4ms/step - loss: 9.0561 - mae: 9.0561\n",
            "Epoch 79/100\n",
            "2/2 [==============================] - 0s 4ms/step - loss: 23.9951 - mae: 23.9951\n",
            "Epoch 80/100\n",
            "2/2 [==============================] - 0s 4ms/step - loss: 26.7792 - mae: 26.7792\n",
            "Epoch 81/100\n",
            "2/2 [==============================] - 0s 4ms/step - loss: 11.6798 - mae: 11.6798\n",
            "Epoch 82/100\n",
            "2/2 [==============================] - 0s 5ms/step - loss: 12.0096 - mae: 12.0096\n",
            "Epoch 83/100\n",
            "2/2 [==============================] - 0s 4ms/step - loss: 17.4026 - mae: 17.4026\n",
            "Epoch 84/100\n",
            "2/2 [==============================] - 0s 4ms/step - loss: 7.2534 - mae: 7.2534\n",
            "Epoch 85/100\n",
            "2/2 [==============================] - 0s 5ms/step - loss: 14.9479 - mae: 14.9479\n",
            "Epoch 86/100\n",
            "2/2 [==============================] - 0s 7ms/step - loss: 15.2716 - mae: 15.2716\n",
            "Epoch 87/100\n",
            "2/2 [==============================] - 0s 4ms/step - loss: 19.0817 - mae: 19.0817\n",
            "Epoch 88/100\n",
            "2/2 [==============================] - 0s 6ms/step - loss: 29.8904 - mae: 29.8904\n",
            "Epoch 89/100\n",
            "2/2 [==============================] - 0s 4ms/step - loss: 10.1777 - mae: 10.1777\n",
            "Epoch 90/100\n",
            "2/2 [==============================] - 0s 6ms/step - loss: 21.5830 - mae: 21.5830\n",
            "Epoch 91/100\n",
            "2/2 [==============================] - 0s 4ms/step - loss: 10.5801 - mae: 10.5801\n",
            "Epoch 92/100\n",
            "2/2 [==============================] - 0s 4ms/step - loss: 18.4531 - mae: 18.4531\n",
            "Epoch 93/100\n",
            "2/2 [==============================] - 0s 4ms/step - loss: 7.4131 - mae: 7.4131\n",
            "Epoch 94/100\n",
            "2/2 [==============================] - 0s 4ms/step - loss: 17.7908 - mae: 17.7908\n",
            "Epoch 95/100\n",
            "2/2 [==============================] - 0s 4ms/step - loss: 11.1308 - mae: 11.1308\n",
            "Epoch 96/100\n",
            "2/2 [==============================] - 0s 5ms/step - loss: 19.4894 - mae: 19.4894\n",
            "Epoch 97/100\n",
            "2/2 [==============================] - 0s 4ms/step - loss: 12.5134 - mae: 12.5134\n",
            "Epoch 98/100\n",
            "2/2 [==============================] - 0s 4ms/step - loss: 10.3007 - mae: 10.3007\n",
            "Epoch 99/100\n",
            "2/2 [==============================] - 0s 5ms/step - loss: 13.8507 - mae: 13.8507\n",
            "Epoch 100/100\n",
            "2/2 [==============================] - 0s 4ms/step - loss: 20.1757 - mae: 20.1757\n"
          ]
        },
        {
          "output_type": "execute_result",
          "data": {
            "text/plain": [
              "<keras.callbacks.History at 0x7f64b8120d90>"
            ]
          },
          "metadata": {},
          "execution_count": 35
        }
      ]
    },
    {
      "cell_type": "markdown",
      "source": [
        "### visualizing the model"
      ],
      "metadata": {
        "id": "W7hAAfBtQA_6"
      }
    },
    {
      "cell_type": "code",
      "source": [
        "model.summary()"
      ],
      "metadata": {
        "colab": {
          "base_uri": "https://localhost:8080/"
        },
        "id": "R5tol7CCP-vC",
        "outputId": "dda51e03-d622-4116-c20f-1716d2f90ec5"
      },
      "execution_count": null,
      "outputs": [
        {
          "output_type": "stream",
          "name": "stdout",
          "text": [
            "Model: \"sequential_8\"\n",
            "_________________________________________________________________\n",
            " Layer (type)                Output Shape              Param #   \n",
            "=================================================================\n",
            " input_layer (Dense)         (None, 10)                20        \n",
            "                                                                 \n",
            " output_layer (Dense)        (None, 1)                 11        \n",
            "                                                                 \n",
            "=================================================================\n",
            "Total params: 31\n",
            "Trainable params: 31\n",
            "Non-trainable params: 0\n",
            "_________________________________________________________________\n"
          ]
        }
      ]
    },
    {
      "cell_type": "markdown",
      "source": [
        "* total parameters - total numbers of parameters in the model\n",
        "* trainable parameters - these are the parameters (patterns) the model can update as it trains.\n",
        "* non trainable parameters - these parameters arent updated during training (this is typical when you bring in already learn patterns or parameters from other models during transfer learning)\n"
      ],
      "metadata": {
        "id": "aqpIsZBYdeSE"
      }
    },
    {
      "cell_type": "code",
      "source": [
        "# let's fit our model to the training data\n",
        "model.fit(tf.expand_dims(X_train, axis=-1), y_train, epochs=100, verbose=0)"
      ],
      "metadata": {
        "colab": {
          "base_uri": "https://localhost:8080/"
        },
        "id": "yeBaa6ELeZcP",
        "outputId": "ec41427d-5862-4f11-ab85-ec48048e7d93"
      },
      "execution_count": null,
      "outputs": [
        {
          "output_type": "execute_result",
          "data": {
            "text/plain": [
              "<keras.callbacks.History at 0x7f64b8170a30>"
            ]
          },
          "metadata": {},
          "execution_count": 37
        }
      ]
    },
    {
      "cell_type": "code",
      "source": [
        "# get a summary of our model\n",
        "model.summary()"
      ],
      "metadata": {
        "colab": {
          "base_uri": "https://localhost:8080/"
        },
        "id": "xH-QG1ype5Ya",
        "outputId": "660e36b7-2b1f-45e9-f902-b69982011fb4"
      },
      "execution_count": null,
      "outputs": [
        {
          "output_type": "stream",
          "name": "stdout",
          "text": [
            "Model: \"sequential_8\"\n",
            "_________________________________________________________________\n",
            " Layer (type)                Output Shape              Param #   \n",
            "=================================================================\n",
            " input_layer (Dense)         (None, 10)                20        \n",
            "                                                                 \n",
            " output_layer (Dense)        (None, 1)                 11        \n",
            "                                                                 \n",
            "=================================================================\n",
            "Total params: 31\n",
            "Trainable params: 31\n",
            "Non-trainable params: 0\n",
            "_________________________________________________________________\n"
          ]
        }
      ]
    },
    {
      "cell_type": "code",
      "source": [
        "from tensorflow.keras.utils import plot_model\n",
        "\n",
        "plot_model(model=model, show_shapes=True)"
      ],
      "metadata": {
        "colab": {
          "base_uri": "https://localhost:8080/",
          "height": 312
        },
        "id": "oi06tZQCe5eY",
        "outputId": "46f94faf-a178-4f84-8a69-2b359356ec7a"
      },
      "execution_count": null,
      "outputs": [
        {
          "output_type": "execute_result",
          "data": {
            "image/png": "[encoded data removed]",
            "text/plain": [
              "<IPython.core.display.Image object>"
            ]
          },
          "metadata": {},
          "execution_count": 39
        }
      ]
    },
    {
      "cell_type": "markdown",
      "source": [
        "## visualizing our model's prediction\n",
        "\n",
        "to visualize predictions, it's a good idea to plot them against the ground truth labels.\n",
        "\n",
        "often you'll see this is the form of 'y_test' or 'y_true' versus 'y_pred' (ground truth versus your model's predictions)"
      ],
      "metadata": {
        "id": "p1b5MCtnhWX8"
      }
    },
    {
      "cell_type": "code",
      "source": [
        "# make some predictions\n",
        "y_pred = model.predict(X_test)\n",
        "y_pred"
      ],
      "metadata": {
        "colab": {
          "base_uri": "https://localhost:8080/"
        },
        "id": "aA86ypmCe5gs",
        "outputId": "41f673ab-dc75-4293-e765-2232dead8c71"
      },
      "execution_count": null,
      "outputs": [
        {
          "output_type": "stream",
          "name": "stdout",
          "text": [
            "1/1 [==============================] - 0s 54ms/step\n"
          ]
        },
        {
          "output_type": "execute_result",
          "data": {
            "text/plain": [
              "array([[ 78.63336 ],\n",
              "       [ 83.655914],\n",
              "       [ 88.67847 ],\n",
              "       [ 93.70102 ],\n",
              "       [ 98.72357 ],\n",
              "       [103.74612 ],\n",
              "       [108.768654],\n",
              "       [113.79121 ],\n",
              "       [118.81376 ],\n",
              "       [123.8363  ]], dtype=float32)"
            ]
          },
          "metadata": {},
          "execution_count": 40
        }
      ]
    },
    {
      "cell_type": "code",
      "source": [
        "y_test"
      ],
      "metadata": {
        "colab": {
          "base_uri": "https://localhost:8080/"
        },
        "id": "MJFCh9tRe5j2",
        "outputId": "098d518d-983c-4433-9618-d6b11752aeb6"
      },
      "execution_count": null,
      "outputs": [
        {
          "output_type": "execute_result",
          "data": {
            "text/plain": [
              "<tf.Tensor: shape=(10,), dtype=int32, numpy=array([ 70,  74,  78,  82,  86,  90,  94,  98, 102, 106], dtype=int32)>"
            ]
          },
          "metadata": {},
          "execution_count": 41
        }
      ]
    },
    {
      "cell_type": "code",
      "source": [
        "# let's create a plotting function \n",
        "\n",
        "def plot_predictions(train_data=X_train,\n",
        "                     train_labels=y_train,\n",
        "                     test_data=X_test,\n",
        "                     test_labels=y_test,\n",
        "                     predictions=y_pred):\n",
        "\n",
        "  plt.figure(figsize=(10, 7))\n",
        "  # plot training data in blue\n",
        "  plt.scatter(train_data, train_labels, c=\"b\", label=\"Training data\")\n",
        "  # plot test data in green\n",
        "  plt.scatter(test_data, test_labels, c=\"g\", label=\"Testing data\")\n",
        "  # plot model's predictions in red\n",
        "  plt.scatter(test_data, predictions, c=\"r\", label=\"Predictions\")\n",
        "  # show the legend\n",
        "  plt.legend();"
      ],
      "metadata": {
        "id": "OTvpzOdHe5ln"
      },
      "execution_count": null,
      "outputs": []
    },
    {
      "cell_type": "code",
      "source": [
        "plot_predictions()"
      ],
      "metadata": {
        "colab": {
          "base_uri": "https://localhost:8080/",
          "height": 428
        },
        "id": "IM6y9Bose5sv",
        "outputId": "e24176da-b841-47a3-960e-410f236e03fa"
      },
      "execution_count": null,
      "outputs": [
        {
          "output_type": "display_data",
          "data": {
            "text/plain": [
              "<Figure size 720x504 with 1 Axes>"
            ],
            "image/png": "[encoded data removed]"
          },
          "metadata": {
            "needs_background": "light"
          }
        }
      ]
    },
    {
      "cell_type": "markdown",
      "source": [
        "### Evaluating our model's prediction with regression evaluation metrics\n",
        "\n",
        "Depending on the problem you're working on, there will be different evaluation metrics to evaluate your model'S performance.\n",
        "\n",
        "Since we're working on a regression problem, two of the main metrics:\n",
        "* MAE - mean absolute error , \"on average, how wrong is each of my model's predictions\"\n",
        "* MSE - mean square error, \"square the average errrors\""
      ],
      "metadata": {
        "id": "Oit8UVwquouV"
      }
    },
    {
      "cell_type": "code",
      "source": [
        "# Evaluate the model on the test set\n",
        "model.evaluate(X_test, y_test)"
      ],
      "metadata": {
        "colab": {
          "base_uri": "https://localhost:8080/"
        },
        "id": "jvs2b8RVumZ5",
        "outputId": "2af100ff-9158-4ebc-acbd-d52670cc4682"
      },
      "execution_count": null,
      "outputs": [
        {
          "output_type": "stream",
          "name": "stdout",
          "text": [
            "1/1 [==============================] - 0s 205ms/step - loss: 13.2348 - mae: 13.2348\n"
          ]
        },
        {
          "output_type": "execute_result",
          "data": {
            "text/plain": [
              "[13.234832763671875, 13.234832763671875]"
            ]
          },
          "metadata": {},
          "execution_count": 44
        }
      ]
    },
    {
      "cell_type": "code",
      "source": [
        "# calculate the mean absolute error\n",
        "mae = tf.metrics.mean_absolute_error(y_true= y_test, y_pred= tf.constant(y_pred))\n",
        "mae"
      ],
      "metadata": {
        "colab": {
          "base_uri": "https://localhost:8080/"
        },
        "id": "GklZj5Zd02hA",
        "outputId": "0a8f1b6e-7121-4f67-d528-442432138e6d"
      },
      "execution_count": null,
      "outputs": [
        {
          "output_type": "execute_result",
          "data": {
            "text/plain": [
              "<tf.Tensor: shape=(10,), dtype=float32, numpy=\n",
              "array([12.146655, 10.468817, 10.      , 10.740204, 12.834143, 16.196894,\n",
              "       20.768654, 25.791204, 30.813757, 35.836304], dtype=float32)>"
            ]
          },
          "metadata": {},
          "execution_count": 50
        }
      ]
    },
    {
      "cell_type": "code",
      "source": [
        "tf.constant(y_pred)"
      ],
      "metadata": {
        "colab": {
          "base_uri": "https://localhost:8080/"
        },
        "id": "Gzbk8-jZ0qxd",
        "outputId": "83a80ace-6c1e-4578-ca1a-363a155e8797"
      },
      "execution_count": null,
      "outputs": [
        {
          "output_type": "execute_result",
          "data": {
            "text/plain": [
              "<tf.Tensor: shape=(10, 1), dtype=float32, numpy=\n",
              "array([[ 78.63336 ],\n",
              "       [ 83.655914],\n",
              "       [ 88.67847 ],\n",
              "       [ 93.70102 ],\n",
              "       [ 98.72357 ],\n",
              "       [103.74612 ],\n",
              "       [108.768654],\n",
              "       [113.79121 ],\n",
              "       [118.81376 ],\n",
              "       [123.8363  ]], dtype=float32)>"
            ]
          },
          "metadata": {},
          "execution_count": 49
        }
      ]
    },
    {
      "cell_type": "code",
      "source": [
        "y_test"
      ],
      "metadata": {
        "colab": {
          "base_uri": "https://localhost:8080/"
        },
        "id": "wpWQx1l0009z",
        "outputId": "7c1aa06a-449f-4876-a509-492d48117880"
      },
      "execution_count": null,
      "outputs": [
        {
          "output_type": "execute_result",
          "data": {
            "text/plain": [
              "<tf.Tensor: shape=(10,), dtype=int32, numpy=array([ 70,  74,  78,  82,  86,  90,  94,  98, 102, 106], dtype=int32)>"
            ]
          },
          "metadata": {},
          "execution_count": 46
        }
      ]
    },
    {
      "cell_type": "code",
      "source": [
        "tf.squeeze(y_test)"
      ],
      "metadata": {
        "colab": {
          "base_uri": "https://localhost:8080/"
        },
        "id": "vZ_u-RML2P0r",
        "outputId": "3b65a80d-ee5d-4227-ef23-6d6304d6e3a7"
      },
      "execution_count": null,
      "outputs": [
        {
          "output_type": "execute_result",
          "data": {
            "text/plain": [
              "<tf.Tensor: shape=(10,), dtype=int32, numpy=array([ 70,  74,  78,  82,  86,  90,  94,  98, 102, 106], dtype=int32)>"
            ]
          },
          "metadata": {},
          "execution_count": 51
        }
      ]
    },
    {
      "cell_type": "code",
      "source": [
        "# calculate the maemae = tf.metrics.mean_absolute_error(y_true= y_test, y_pred= tf.constant(y_pred))\n",
        "mae = tf.metrics.mean_absolute_error(y_true= y_test, y_pred= tf.squeeze(y_pred))\n",
        "mae"
      ],
      "metadata": {
        "colab": {
          "base_uri": "https://localhost:8080/"
        },
        "id": "Tyex3Cl83sDB",
        "outputId": "f7539692-79da-4cc5-add9-5de1774a01d4"
      },
      "execution_count": null,
      "outputs": [
        {
          "output_type": "execute_result",
          "data": {
            "text/plain": [
              "<tf.Tensor: shape=(), dtype=float32, numpy=13.234838>"
            ]
          },
          "metadata": {},
          "execution_count": 52
        }
      ]
    },
    {
      "cell_type": "code",
      "source": [
        "# calculate the mean squared error\n",
        "mse = tf.metrics.mean_squared_error(y_true = y_test, y_pred= tf.squeeze(y_pred))\n",
        "mse"
      ],
      "metadata": {
        "id": "UaghM-dB4E9T"
      },
      "execution_count": null,
      "outputs": []
    }
  ]
}